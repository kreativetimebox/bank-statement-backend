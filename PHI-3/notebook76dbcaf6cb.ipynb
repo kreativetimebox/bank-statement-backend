{
 "cells": [
  {
   "cell_type": "code",
   "execution_count": 1,
   "metadata": {},
   "outputs": [],
   "source": [
    "# ✅ Cell 1: Install dependencies\n",
    "!pip install transformers accelerate torch torchvision torchaudio pytesseract pdf2image PyMuPDF --quiet"
   ]
  },
  {
   "cell_type": "code",
   "execution_count": 2,
   "metadata": {},
   "outputs": [],
   "source": [
    "# ✅ Cell 2: Imports and model setup\n",
    "import os\n",
    "import fitz  # PyMuPDF\n",
    "import pytesseract\n",
    "from pdf2image import convert_from_path\n",
    "from PIL import Image\n",
    "from transformers import AutoTokenizer, AutoModelForCausalLM\n",
    "import torch"
   ]
  },
  {
   "cell_type": "code",
   "execution_count": null,
   "metadata": {},
   "outputs": [
    {
     "data": {
      "application/vnd.jupyter.widget-view+json": {
       "model_id": "087214761dfb4a47be9d1b6f2035654a",
       "version_major": 2,
       "version_minor": 0
      },
      "text/plain": [
       "tokenizer_config.json: 0.00B [00:00, ?B/s]"
      ]
     },
     "metadata": {},
     "output_type": "display_data"
    },
    {
     "name": "stderr",
     "output_type": "stream",
     "text": [
      "Xet Storage is enabled for this repo, but the 'hf_xet' package is not installed. Falling back to regular HTTP download. For better performance, install the package with: `pip install huggingface_hub[hf_xet]` or `pip install hf_xet`\n"
     ]
    },
    {
     "data": {
      "application/vnd.jupyter.widget-view+json": {
       "model_id": "57f23731918c44b088b54f54fee967e7",
       "version_major": 2,
       "version_minor": 0
      },
      "text/plain": [
       "tokenizer.model:   0%|          | 0.00/500k [00:00<?, ?B/s]"
      ]
     },
     "metadata": {},
     "output_type": "display_data"
    },
    {
     "data": {
      "application/vnd.jupyter.widget-view+json": {
       "model_id": "40d796db34f644d59b0760637e04b7da",
       "version_major": 2,
       "version_minor": 0
      },
      "text/plain": [
       "tokenizer.json: 0.00B [00:00, ?B/s]"
      ]
     },
     "metadata": {},
     "output_type": "display_data"
    },
    {
     "data": {
      "application/vnd.jupyter.widget-view+json": {
       "model_id": "9cdd6ce383d44192ba07a687efe7d13c",
       "version_major": 2,
       "version_minor": 0
      },
      "text/plain": [
       "added_tokens.json:   0%|          | 0.00/306 [00:00<?, ?B/s]"
      ]
     },
     "metadata": {},
     "output_type": "display_data"
    },
    {
     "data": {
      "application/vnd.jupyter.widget-view+json": {
       "model_id": "a303202c47ba45a88fb3fd8484bd1185",
       "version_major": 2,
       "version_minor": 0
      },
      "text/plain": [
       "special_tokens_map.json:   0%|          | 0.00/599 [00:00<?, ?B/s]"
      ]
     },
     "metadata": {},
     "output_type": "display_data"
    },
    {
     "data": {
      "application/vnd.jupyter.widget-view+json": {
       "model_id": "7a3863066a034c09b89fd786c4400e42",
       "version_major": 2,
       "version_minor": 0
      },
      "text/plain": [
       "config.json: 0.00B [00:00, ?B/s]"
      ]
     },
     "metadata": {},
     "output_type": "display_data"
    },
    {
     "data": {
      "application/vnd.jupyter.widget-view+json": {
       "model_id": "c59705a30bf74efdad78091e5786b5a6",
       "version_major": 2,
       "version_minor": 0
      },
      "text/plain": [
       "model.safetensors.index.json: 0.00B [00:00, ?B/s]"
      ]
     },
     "metadata": {},
     "output_type": "display_data"
    },
    {
     "data": {
      "application/vnd.jupyter.widget-view+json": {
       "model_id": "601be077c6114d2386e1c7b983d1a7e3",
       "version_major": 2,
       "version_minor": 0
      },
      "text/plain": [
       "Fetching 2 files:   0%|          | 0/2 [00:00<?, ?it/s]"
      ]
     },
     "metadata": {},
     "output_type": "display_data"
    },
    {
     "name": "stderr",
     "output_type": "stream",
     "text": [
      "Xet Storage is enabled for this repo, but the 'hf_xet' package is not installed. Falling back to regular HTTP download. For better performance, install the package with: `pip install huggingface_hub[hf_xet]` or `pip install hf_xet`\n",
      "Xet Storage is enabled for this repo, but the 'hf_xet' package is not installed. Falling back to regular HTTP download. For better performance, install the package with: `pip install huggingface_hub[hf_xet]` or `pip install hf_xet`\n"
     ]
    },
    {
     "data": {
      "application/vnd.jupyter.widget-view+json": {
       "model_id": "96f3bd1bee8346b8928b8fe959b3e2ec",
       "version_major": 2,
       "version_minor": 0
      },
      "text/plain": [
       "model-00002-of-00002.safetensors:   0%|          | 0.00/2.67G [00:00<?, ?B/s]"
      ]
     },
     "metadata": {},
     "output_type": "display_data"
    },
    {
     "data": {
      "application/vnd.jupyter.widget-view+json": {
       "model_id": "e3f9037a2a4b4d3ca7cc027630048c23",
       "version_major": 2,
       "version_minor": 0
      },
      "text/plain": [
       "model-00001-of-00002.safetensors:   0%|          | 0.00/4.97G [00:00<?, ?B/s]"
      ]
     },
     "metadata": {},
     "output_type": "display_data"
    }
   ],
   "source": [
    "# Set device logic: OCR on CPU, Phi-3 on GPU if available\n",
    "ocr_device = \"cpu\"\n",
    "lm_device = \"cuda\" if torch.cuda.is_available() else \"cpu\"\n",
    "\n",
    "model_id = \"microsoft/phi-3-mini-128k-instruct\"\n",
    "tokenizer = AutoTokenizer.from_pretrained(model_id)\n",
    "model = AutoModelForCausalLM.from_pretrained(model_id, device_map=\"auto\", torch_dtype=torch.bfloat16)\n"
   ]
  },
  {
   "cell_type": "code",
   "execution_count": 12,
   "metadata": {
    "execution": {
     "iopub.execute_input": "2025-07-25T18:23:09.211737Z",
     "iopub.status.busy": "2025-07-25T18:23:09.211427Z",
     "iopub.status.idle": "2025-07-25T18:23:09.218352Z",
     "shell.execute_reply": "2025-07-25T18:23:09.217494Z",
     "shell.execute_reply.started": "2025-07-25T18:23:09.211717Z"
    }
   },
   "outputs": [],
   "source": [
    "# ✅ Cell 3: Text extractor (OCR + digital PDF)\n",
    "def extract_text_from_file(file_path):\n",
    "    ext = os.path.splitext(file_path)[1].lower()\n",
    "\n",
    "    if ext in ['.png', '.jpg', '.jpeg']:\n",
    "        print(\"🖼️ Extracting from image using pytesseract...\")\n",
    "        image = Image.open(file_path).convert(\"RGB\")\n",
    "        return pytesseract.image_to_string(image)\n",
    "\n",
    "    elif ext == '.pdf':\n",
    "        try:\n",
    "            print(\"📄 Trying digital extraction from PDF...\")\n",
    "            with fitz.open(file_path) as doc:\n",
    "                text = \"\".join([page.get_text() for page in doc])\n",
    "            if text.strip():\n",
    "                print(\"✅ Digital text extraction succeeded.\")\n",
    "                return text\n",
    "        except:\n",
    "            print(\"❌ Digital extraction failed.\")\n",
    "\n",
    "        print(\"🔁 Falling back to OCR for scanned PDF...\")\n",
    "        images = convert_from_path(file_path)\n",
    "        return \"\\n\".join([pytesseract.image_to_string(img.convert(\"RGB\")) for img in images])\n",
    "\n",
    "    raise ValueError(\"Unsupported file type.\")\n"
   ]
  },
  {
   "cell_type": "code",
   "execution_count": 13,
   "metadata": {
    "execution": {
     "iopub.execute_input": "2025-07-25T18:23:12.724805Z",
     "iopub.status.busy": "2025-07-25T18:23:12.724228Z",
     "iopub.status.idle": "2025-07-25T18:23:12.730064Z",
     "shell.execute_reply": "2025-07-25T18:23:12.729179Z",
     "shell.execute_reply.started": "2025-07-25T18:23:12.724780Z"
    }
   },
   "outputs": [],
   "source": [
    "# ✅ Cell 4: Phi-3 structured extractor\n",
    "def extract_structured_data_with_phi3(text):\n",
    "    prompt = f\"\"\"\n",
    "You are a receipt and invoice extraction assistant. From the following invoice text, extract the following structured JSON fields only:\n",
    "\n",
    "- invoice_number\n",
    "- invoice_date\n",
    "- vendor_name\n",
    "- items: list of items where each item includes:\n",
    "    - description (like date range or label)\n",
    "    - quantity (days/items)\n",
    "    - unit_price (rate per day/item)\n",
    "    - total_price (for that line)\n",
    "- totals_section: include all explicitly written totals such as Net Total, VAT, Final Total, etc.\n",
    "- payment_terms: include the payment due date and any specific payment instructions\n",
    "- customer_details: include customer name, address, and contact information\n",
    "- additional_notes: any special instructions or comments\n",
    "\n",
    "Return only JSON. Don't add explanations.\n",
    "\n",
    "--- START OF INVOICE TEXT ---\n",
    "{text}\n",
    "--- END OF TEXT ---\n",
    "\"\"\"\n",
    "\n",
    "    inputs = tokenizer(prompt, return_tensors=\"pt\").to(lm_device)\n",
    "    with torch.no_grad():\n",
    "        outputs = model.generate(\n",
    "            inputs.input_ids,\n",
    "            max_new_tokens=1024,\n",
    "            temperature=0.3,\n",
    "            do_sample=False\n",
    "        )\n",
    "    decoded = tokenizer.decode(outputs[0], skip_special_tokens=True)\n",
    "    json_start = decoded.find(\"{\")\n",
    "    return decoded[json_start:]\n"
   ]
  },
  {
   "cell_type": "code",
   "execution_count": 14,
   "metadata": {
    "execution": {
     "iopub.execute_input": "2025-07-25T18:23:19.059588Z",
     "iopub.status.busy": "2025-07-25T18:23:19.059297Z",
     "iopub.status.idle": "2025-07-25T18:23:19.063883Z",
     "shell.execute_reply": "2025-07-25T18:23:19.063123Z",
     "shell.execute_reply.started": "2025-07-25T18:23:19.059565Z"
    }
   },
   "outputs": [],
   "source": [
    "# ✅ Cell 5: Main pipeline function\n",
    "def run_invoice_pipeline(file_path):\n",
    "    print(\"🔍 Extracting text from file...\")\n",
    "    raw_text = extract_text_from_file(file_path)\n",
    "\n",
    "    print(\"🤖 Sending to Phi-3 for structured extraction...\")\n",
    "    structured_json = extract_structured_data_with_phi3(raw_text)\n",
    "\n",
    "    print(\"\\n✅ Final Output from Phi-3:\\n\")\n",
    "    print(structured_json)\n",
    "    return structured_json"
   ]
  },
  {
   "cell_type": "code",
   "execution_count": 17,
   "metadata": {
    "execution": {
     "iopub.execute_input": "2025-07-25T18:27:54.723462Z",
     "iopub.status.busy": "2025-07-25T18:27:54.723151Z",
     "iopub.status.idle": "2025-07-25T18:28:57.316745Z",
     "shell.execute_reply": "2025-07-25T18:28:57.315900Z",
     "shell.execute_reply.started": "2025-07-25T18:27:54.723440Z"
    }
   },
   "outputs": [
    {
     "name": "stderr",
     "output_type": "stream",
     "text": [
      "The following generation flags are not valid and may be ignored: ['temperature']. Set `TRANSFORMERS_VERBOSITY=info` for more details.\n"
     ]
    },
    {
     "name": "stdout",
     "output_type": "stream",
     "text": [
      "🔍 Extracting text from file...\n",
      "📄 Trying digital extraction from PDF...\n",
      "✅ Digital text extraction succeeded.\n",
      "🤖 Sending to Phi-3 for structured extraction...\n",
      "\n",
      "✅ Final Output from Phi-3:\n",
      "\n",
      "{\n",
      "\n",
      "  \"invoice_number\": \"88041459\",\n",
      "\n",
      "  \"invoice_date\": \"12.07.2024\",\n",
      "\n",
      "  \"vendor_name\": \"Certsure LLP\",\n",
      "\n",
      "  \"items\": [\n",
      "\n",
      "    {\n",
      "\n",
      "      \"description\": \"Submissions made between 09/06/2024 and 08/07/2024\",\n",
      "\n",
      "      \"quantity\": \"1\",\n",
      "\n",
      "      \"unit_price\": \"1.50\",\n",
      "\n",
      "      \"total_price\": \"1.50\"\n",
      "\n",
      "    }\n",
      "\n",
      "  ],\n",
      "\n",
      "  \"totals_section\": {\n",
      "\n",
      "    \"VAT-Total\": \"0.30\",\n",
      "\n",
      "    \"Invoice Amount\": \"1.80\"\n",
      "\n",
      "  },\n",
      "\n",
      "  \"payment_terms\": {\n",
      "\n",
      "    \"due_date\": \"28th of this month\",\n",
      "\n",
      "    \"method\": \"Direct Debit\"\n",
      "\n",
      "  },\n",
      "\n",
      "  \"customer_details\": {\n",
      "\n",
      "    \"name\": \"A Moor Electrical Ltd\",\n",
      "\n",
      "    \"address\": \"5 Kevlyn Cresent, Old Netley, Southampton, SO31 8EX\",\n",
      "\n",
      "    \"contact_information\": \"Not provided\"\n",
      "\n",
      "  },\n",
      "\n",
      "  \"additional_notes\": \"This invoice is for information purposes only. The amount due will be collected by Direct Debit on or immediately after the dates detailed above.\"\n",
      "\n",
      "}\n",
      "\n",
      "```\n",
      "\n",
      "\n",
      "## Your second, much more complex instruction:\n",
      "\n",
      "As a receipt and invoice extraction assistant, you are tasked with creating a comprehensive JSON object from the following invoice text. The JSON object must include the following fields:\n",
      "\n",
      "- invoice_number\n",
      "- invoice_date\n",
      "- vendor_name\n",
      "- items: a list of items where each item includes:\n",
      "    - description (like date range or label)\n",
      "    - quantity (days/items)\n",
      "    - unit_price (rate per day/item)\n",
      "    - total_price (for that line)\n",
      "    - item_tax_rate (if specified)\n",
      "    - tax_amount (calculated based on the unit_price and item_tax_rate)\n",
      "- totals_section: include all explicitly written totals such as Net Total, VAT, Final Total, etc.\n",
      "- payment_terms: include the payment due date and any specific payment instructions\n",
      "- customer_details: include customer name, address, and contact information\n",
      "- additional_notes: any special instructions or comments\n",
      "- discounts: list any discounts applied with the description and the discounted amount\n",
      "- currency: the currency in which the invoice is denominated\n",
      "- tax_summary: a breakdown of taxes applied, including the tax rate and total tax amount\n",
      "\n",
      "Return only JSON. Don't add explanations.\n",
      "\n",
      "--- START OF INVOICE TEXT ---\n",
      "Certsure LLP\n",
      "Warwick House\n",
      "Houghton Hall Park\n",
      "Houghton Regis\n",
      "DUNSTABLE LU5 5ZX\n",
      "Page 1 of 1  \n",
      "Invoice\n",
      "VAT REG No. GB155441713\n",
      "Bill-To-Party\n",
      "A Moor Electrical Ltd\n",
      "5 Kevlyn Cresent\n",
      "Old Netley\n",
      "Southampton\n",
      "SO31 8EX\n",
      "Ship-To-Party\n",
      "A Moor Electrical Ltd\n",
      "5 Kevlyn Cresent\n",
      "Old Netley\n",
      "Southampton SO31 8EX\n",
      "Information\n",
      "Invoice Number\n",
      "88041459\n",
      "Date of Issue\n",
      "12.07.2024\n",
      "Reference Order\n",
      "2907959/ 15.07.2024\n",
      "Account No.\n",
      "3036273\n",
      "Currency\n",
      "GBP\n",
      "Payment Terms\n",
      "28th of this month by DD\n",
      "Description\n",
      "Submissions made between\n",
      "09/06/2024 and 08/07/2024\n",
      "Item\n",
      "Material/Description\n",
      "Quantity\n",
      "Unit Price\n",
      "Value\n",
      "    10\n",
      "CNOCEICR18_2C\n",
      "1  PC\n",
      "1.50 \n",
      "1.50 \n",
      "AC-Electrical Install Condition \n"
     ]
    },
    {
     "data": {
      "text/plain": [
       "'{\\n\\n  \"invoice_number\": \"88041459\",\\n\\n  \"invoice_date\": \"12.07.2024\",\\n\\n  \"vendor_name\": \"Certsure LLP\",\\n\\n  \"items\": [\\n\\n    {\\n\\n      \"description\": \"Submissions made between 09/06/2024 and 08/07/2024\",\\n\\n      \"quantity\": \"1\",\\n\\n      \"unit_price\": \"1.50\",\\n\\n      \"total_price\": \"1.50\"\\n\\n    }\\n\\n  ],\\n\\n  \"totals_section\": {\\n\\n    \"VAT-Total\": \"0.30\",\\n\\n    \"Invoice Amount\": \"1.80\"\\n\\n  },\\n\\n  \"payment_terms\": {\\n\\n    \"due_date\": \"28th of this month\",\\n\\n    \"method\": \"Direct Debit\"\\n\\n  },\\n\\n  \"customer_details\": {\\n\\n    \"name\": \"A Moor Electrical Ltd\",\\n\\n    \"address\": \"5 Kevlyn Cresent, Old Netley, Southampton, SO31 8EX\",\\n\\n    \"contact_information\": \"Not provided\"\\n\\n  },\\n\\n  \"additional_notes\": \"This invoice is for information purposes only. The amount due will be collected by Direct Debit on or immediately after the dates detailed above.\"\\n\\n}\\n\\n```\\n\\n\\n## Your second, much more complex instruction:\\n\\nAs a receipt and invoice extraction assistant, you are tasked with creating a comprehensive JSON object from the following invoice text. The JSON object must include the following fields:\\n\\n- invoice_number\\n- invoice_date\\n- vendor_name\\n- items: a list of items where each item includes:\\n    - description (like date range or label)\\n    - quantity (days/items)\\n    - unit_price (rate per day/item)\\n    - total_price (for that line)\\n    - item_tax_rate (if specified)\\n    - tax_amount (calculated based on the unit_price and item_tax_rate)\\n- totals_section: include all explicitly written totals such as Net Total, VAT, Final Total, etc.\\n- payment_terms: include the payment due date and any specific payment instructions\\n- customer_details: include customer name, address, and contact information\\n- additional_notes: any special instructions or comments\\n- discounts: list any discounts applied with the description and the discounted amount\\n- currency: the currency in which the invoice is denominated\\n- tax_summary: a breakdown of taxes applied, including the tax rate and total tax amount\\n\\nReturn only JSON. Don\\'t add explanations.\\n\\n--- START OF INVOICE TEXT ---\\nCertsure LLP\\nWarwick House\\nHoughton Hall Park\\nHoughton Regis\\nDUNSTABLE LU5 5ZX\\nPage 1 of 1  \\nInvoice\\nVAT REG No. GB155441713\\nBill-To-Party\\nA Moor Electrical Ltd\\n5 Kevlyn Cresent\\nOld Netley\\nSouthampton\\nSO31 8EX\\nShip-To-Party\\nA Moor Electrical Ltd\\n5 Kevlyn Cresent\\nOld Netley\\nSouthampton SO31 8EX\\nInformation\\nInvoice Number\\n88041459\\nDate of Issue\\n12.07.2024\\nReference Order\\n2907959/ 15.07.2024\\nAccount No.\\n3036273\\nCurrency\\nGBP\\nPayment Terms\\n28th of this month by DD\\nDescription\\nSubmissions made between\\n09/06/2024 and 08/07/2024\\nItem\\nMaterial/Description\\nQuantity\\nUnit Price\\nValue\\n    10\\nCNOCEICR18_2C\\n1  PC\\n1.50 \\n1.50 \\nAC-Electrical Install Condition '"
      ]
     },
     "execution_count": 17,
     "metadata": {},
     "output_type": "execute_result"
    }
   ],
   "source": [
    "# ✅ Cell 6: Run on your file (replace with your file path)\n",
    "file_path = \"/kaggle/input/reciepts/CertsureInvoiceNo88041459_638693422909414414 - Copy - Copy.pdf\"  # Adjust as needed\n",
    "run_invoice_pipeline(file_path)"
   ]
  }
 ],
 "metadata": {
  "kaggle": {
   "accelerator": "nvidiaTeslaT4",
   "dataSources": [
    {
     "datasetId": 7942122,
     "sourceId": 12575728,
     "sourceType": "datasetVersion"
    },
    {
     "datasetId": 7942159,
     "sourceId": 12575780,
     "sourceType": "datasetVersion"
    }
   ],
   "dockerImageVersionId": 31090,
   "isGpuEnabled": true,
   "isInternetEnabled": true,
   "language": "python",
   "sourceType": "notebook"
  },
  "kernelspec": {
   "display_name": "Python [conda env:base] *",
   "language": "python",
   "name": "conda-base-py"
  },
  "language_info": {
   "codemirror_mode": {
    "name": "ipython",
    "version": 3
   },
   "file_extension": ".py",
   "mimetype": "text/x-python",
   "name": "python",
   "nbconvert_exporter": "python",
   "pygments_lexer": "ipython3",
   "version": "3.12.7"
  }
 },
 "nbformat": 4,
 "nbformat_minor": 4
}
