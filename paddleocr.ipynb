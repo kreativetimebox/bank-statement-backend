{
 "cells": [
  {
   "cell_type": "code",
   "execution_count": 14,
   "id": "e18feeae",
   "metadata": {},
   "outputs": [
    {
     "name": "stdout",
     "output_type": "stream",
     "text": [
      "Requirement already satisfied: paddleocr in c:\\users\\hp\\appdata\\local\\programs\\python\\python311\\lib\\site-packages (3.1.0)\n",
      "Requirement already satisfied: paddlepaddle in c:\\users\\hp\\appdata\\local\\programs\\python\\python311\\lib\\site-packages (3.1.0)\n",
      "Requirement already satisfied: pdf2image in c:\\users\\hp\\appdata\\local\\programs\\python\\python311\\lib\\site-packages (1.17.0)\n",
      "Requirement already satisfied: python-docx in c:\\users\\hp\\appdata\\local\\programs\\python\\python311\\lib\\site-packages (1.2.0)\n",
      "Requirement already satisfied: pdf2docx in c:\\users\\hp\\appdata\\local\\programs\\python\\python311\\lib\\site-packages (0.5.8)\n",
      "Requirement already satisfied: opencv-python in c:\\users\\hp\\appdata\\local\\programs\\python\\python311\\lib\\site-packages (4.11.0.86)\n",
      "Requirement already satisfied: paddlex>=3.1.0 in c:\\users\\hp\\appdata\\local\\programs\\python\\python311\\lib\\site-packages (from paddlex[ie,multimodal,ocr,trans]>=3.1.0->paddleocr) (3.1.3)\n",
      "Requirement already satisfied: PyYAML>=6 in c:\\users\\hp\\appdata\\local\\programs\\python\\python311\\lib\\site-packages (from paddleocr) (6.0.2)\n",
      "Requirement already satisfied: typing-extensions>=4.12 in c:\\users\\hp\\appdata\\roaming\\python\\python311\\site-packages (from paddleocr) (4.12.2)\n",
      "Requirement already satisfied: httpx in c:\\users\\hp\\appdata\\local\\programs\\python\\python311\\lib\\site-packages (from paddlepaddle) (0.28.1)\n",
      "Requirement already satisfied: numpy>=1.21 in c:\\users\\hp\\appdata\\local\\programs\\python\\python311\\lib\\site-packages (from paddlepaddle) (2.0.2)\n",
      "Requirement already satisfied: protobuf>=3.20.2 in c:\\users\\hp\\appdata\\local\\programs\\python\\python311\\lib\\site-packages (from paddlepaddle) (5.29.3)\n",
      "Requirement already satisfied: Pillow in c:\\users\\hp\\appdata\\local\\programs\\python\\python311\\lib\\site-packages (from paddlepaddle) (11.1.0)\n",
      "Requirement already satisfied: decorator in c:\\users\\hp\\appdata\\roaming\\python\\python311\\site-packages (from paddlepaddle) (5.2.1)\n",
      "Requirement already satisfied: opt-einsum==3.3.0 in c:\\users\\hp\\appdata\\local\\programs\\python\\python311\\lib\\site-packages (from paddlepaddle) (3.3.0)\n",
      "Requirement already satisfied: networkx in c:\\users\\hp\\appdata\\local\\programs\\python\\python311\\lib\\site-packages (from paddlepaddle) (3.5)\n",
      "Requirement already satisfied: lxml>=3.1.0 in c:\\users\\hp\\appdata\\local\\programs\\python\\python311\\lib\\site-packages (from python-docx) (6.0.0)\n",
      "Requirement already satisfied: PyMuPDF>=1.19.0 in c:\\users\\hp\\appdata\\local\\programs\\python\\python311\\lib\\site-packages (from pdf2docx) (1.26.3)\n",
      "Requirement already satisfied: fonttools>=4.24.0 in c:\\users\\hp\\appdata\\local\\programs\\python\\python311\\lib\\site-packages (from pdf2docx) (4.56.0)\n",
      "Requirement already satisfied: opencv-python-headless>=4.5 in c:\\users\\hp\\appdata\\local\\programs\\python\\python311\\lib\\site-packages (from pdf2docx) (4.12.0.88)\n",
      "Requirement already satisfied: fire>=0.3.0 in c:\\users\\hp\\appdata\\local\\programs\\python\\python311\\lib\\site-packages (from pdf2docx) (0.7.0)\n",
      "Requirement already satisfied: termcolor in c:\\users\\hp\\appdata\\local\\programs\\python\\python311\\lib\\site-packages (from fire>=0.3.0->pdf2docx) (2.5.0)\n",
      "Requirement already satisfied: chardet in c:\\users\\hp\\appdata\\local\\programs\\python\\python311\\lib\\site-packages (from paddlex>=3.1.0->paddlex[ie,multimodal,ocr,trans]>=3.1.0->paddleocr) (5.2.0)\n",
      "Requirement already satisfied: colorlog in c:\\users\\hp\\appdata\\local\\programs\\python\\python311\\lib\\site-packages (from paddlex>=3.1.0->paddlex[ie,multimodal,ocr,trans]>=3.1.0->paddleocr) (6.9.0)\n",
      "Requirement already satisfied: filelock in c:\\users\\hp\\appdata\\local\\programs\\python\\python311\\lib\\site-packages (from paddlex>=3.1.0->paddlex[ie,multimodal,ocr,trans]>=3.1.0->paddleocr) (3.17.0)\n",
      "Requirement already satisfied: huggingface_hub in c:\\users\\hp\\appdata\\local\\programs\\python\\python311\\lib\\site-packages (from paddlex>=3.1.0->paddlex[ie,multimodal,ocr,trans]>=3.1.0->paddleocr) (0.33.4)\n",
      "Requirement already satisfied: packaging in c:\\users\\hp\\appdata\\roaming\\python\\python311\\site-packages (from paddlex>=3.1.0->paddlex[ie,multimodal,ocr,trans]>=3.1.0->paddleocr) (24.2)\n",
      "Requirement already satisfied: pandas>=1.3 in c:\\users\\hp\\appdata\\local\\programs\\python\\python311\\lib\\site-packages (from paddlex>=3.1.0->paddlex[ie,multimodal,ocr,trans]>=3.1.0->paddleocr) (2.2.3)\n",
      "Requirement already satisfied: prettytable in c:\\users\\hp\\appdata\\local\\programs\\python\\python311\\lib\\site-packages (from paddlex>=3.1.0->paddlex[ie,multimodal,ocr,trans]>=3.1.0->paddleocr) (3.16.0)\n",
      "Requirement already satisfied: py-cpuinfo in c:\\users\\hp\\appdata\\local\\programs\\python\\python311\\lib\\site-packages (from paddlex>=3.1.0->paddlex[ie,multimodal,ocr,trans]>=3.1.0->paddleocr) (9.0.0)\n",
      "Requirement already satisfied: pydantic>=2 in c:\\users\\hp\\appdata\\local\\programs\\python\\python311\\lib\\site-packages (from paddlex>=3.1.0->paddlex[ie,multimodal,ocr,trans]>=3.1.0->paddleocr) (2.11.7)\n",
      "Requirement already satisfied: requests in c:\\users\\hp\\appdata\\local\\programs\\python\\python311\\lib\\site-packages (from paddlex>=3.1.0->paddlex[ie,multimodal,ocr,trans]>=3.1.0->paddleocr) (2.32.3)\n",
      "Requirement already satisfied: ruamel.yaml in c:\\users\\hp\\appdata\\local\\programs\\python\\python311\\lib\\site-packages (from paddlex>=3.1.0->paddlex[ie,multimodal,ocr,trans]>=3.1.0->paddleocr) (0.18.14)\n",
      "Requirement already satisfied: ujson in c:\\users\\hp\\appdata\\local\\programs\\python\\python311\\lib\\site-packages (from paddlex>=3.1.0->paddlex[ie,multimodal,ocr,trans]>=3.1.0->paddleocr) (5.10.0)\n",
      "Requirement already satisfied: einops in c:\\users\\hp\\appdata\\local\\programs\\python\\python311\\lib\\site-packages (from paddlex[ie,multimodal,ocr,trans]>=3.1.0->paddleocr) (0.8.1)\n",
      "Requirement already satisfied: ftfy in c:\\users\\hp\\appdata\\local\\programs\\python\\python311\\lib\\site-packages (from paddlex[ie,multimodal,ocr,trans]>=3.1.0->paddleocr) (6.3.1)\n",
      "Requirement already satisfied: GPUtil>=1.4 in c:\\users\\hp\\appdata\\local\\programs\\python\\python311\\lib\\site-packages (from paddlex[ie,multimodal,ocr,trans]>=3.1.0->paddleocr) (1.4.0)\n",
      "Requirement already satisfied: Jinja2 in c:\\users\\hp\\appdata\\local\\programs\\python\\python311\\lib\\site-packages (from paddlex[ie,multimodal,ocr,trans]>=3.1.0->paddleocr) (3.1.5)\n",
      "Requirement already satisfied: opencv-contrib-python==4.10.0.84 in c:\\users\\hp\\appdata\\local\\programs\\python\\python311\\lib\\site-packages (from paddlex[ie,multimodal,ocr,trans]>=3.1.0->paddleocr) (4.10.0.84)\n",
      "Requirement already satisfied: pypdfium2>=4 in c:\\users\\hp\\appdata\\local\\programs\\python\\python311\\lib\\site-packages (from paddlex[ie,multimodal,ocr,trans]>=3.1.0->paddleocr) (4.30.0)\n",
      "Requirement already satisfied: regex in c:\\users\\hp\\appdata\\local\\programs\\python\\python311\\lib\\site-packages (from paddlex[ie,multimodal,ocr,trans]>=3.1.0->paddleocr) (2024.11.6)\n",
      "Requirement already satisfied: tiktoken in c:\\users\\hp\\appdata\\local\\programs\\python\\python311\\lib\\site-packages (from paddlex[ie,multimodal,ocr,trans]>=3.1.0->paddleocr) (0.9.0)\n",
      "Requirement already satisfied: imagesize in c:\\users\\hp\\appdata\\local\\programs\\python\\python311\\lib\\site-packages (from paddlex[ie,multimodal,ocr,trans]>=3.1.0->paddleocr) (1.4.1)\n",
      "Requirement already satisfied: langchain>=0.2 in c:\\users\\hp\\appdata\\local\\programs\\python\\python311\\lib\\site-packages (from paddlex[ie,multimodal,ocr,trans]>=3.1.0->paddleocr) (0.3.27)\n",
      "Requirement already satisfied: langchain-community>=0.2 in c:\\users\\hp\\appdata\\local\\programs\\python\\python311\\lib\\site-packages (from paddlex[ie,multimodal,ocr,trans]>=3.1.0->paddleocr) (0.3.27)\n",
      "Requirement already satisfied: langchain-core in c:\\users\\hp\\appdata\\local\\programs\\python\\python311\\lib\\site-packages (from paddlex[ie,multimodal,ocr,trans]>=3.1.0->paddleocr) (0.3.72)\n",
      "Requirement already satisfied: langchain-openai>=0.1 in c:\\users\\hp\\appdata\\local\\programs\\python\\python311\\lib\\site-packages (from paddlex[ie,multimodal,ocr,trans]>=3.1.0->paddleocr) (0.3.28)\n",
      "Requirement already satisfied: openai>=1.63 in c:\\users\\hp\\appdata\\local\\programs\\python\\python311\\lib\\site-packages (from paddlex[ie,multimodal,ocr,trans]>=3.1.0->paddleocr) (1.97.1)\n",
      "Requirement already satisfied: openpyxl in c:\\users\\hp\\appdata\\local\\programs\\python\\python311\\lib\\site-packages (from paddlex[ie,multimodal,ocr,trans]>=3.1.0->paddleocr) (3.1.5)\n",
      "Requirement already satisfied: premailer in c:\\users\\hp\\appdata\\local\\programs\\python\\python311\\lib\\site-packages (from paddlex[ie,multimodal,ocr,trans]>=3.1.0->paddleocr) (3.10.0)\n",
      "Requirement already satisfied: pyclipper in c:\\users\\hp\\appdata\\local\\programs\\python\\python311\\lib\\site-packages (from paddlex[ie,multimodal,ocr,trans]>=3.1.0->paddleocr) (1.3.0.post6)\n",
      "Requirement already satisfied: scikit-learn in c:\\users\\hp\\appdata\\local\\programs\\python\\python311\\lib\\site-packages (from paddlex[ie,multimodal,ocr,trans]>=3.1.0->paddleocr) (1.6.1)\n",
      "Requirement already satisfied: shapely in c:\\users\\hp\\appdata\\local\\programs\\python\\python311\\lib\\site-packages (from paddlex[ie,multimodal,ocr,trans]>=3.1.0->paddleocr) (2.1.1)\n",
      "Requirement already satisfied: tokenizers>=0.19 in c:\\users\\hp\\appdata\\local\\programs\\python\\python311\\lib\\site-packages (from paddlex[ie,multimodal,ocr,trans]>=3.1.0->paddleocr) (0.21.2)\n",
      "Requirement already satisfied: beautifulsoup4 in c:\\users\\hp\\appdata\\local\\programs\\python\\python311\\lib\\site-packages (from paddlex[ie,multimodal,ocr,trans]>=3.1.0->paddleocr) (4.13.3)\n",
      "Requirement already satisfied: langchain-text-splitters<1.0.0,>=0.3.9 in c:\\users\\hp\\appdata\\local\\programs\\python\\python311\\lib\\site-packages (from langchain>=0.2->paddlex[ie,multimodal,ocr,trans]>=3.1.0->paddleocr) (0.3.9)\n",
      "Requirement already satisfied: langsmith>=0.1.17 in c:\\users\\hp\\appdata\\local\\programs\\python\\python311\\lib\\site-packages (from langchain>=0.2->paddlex[ie,multimodal,ocr,trans]>=3.1.0->paddleocr) (0.4.8)\n",
      "Requirement already satisfied: SQLAlchemy<3,>=1.4 in c:\\users\\hp\\appdata\\local\\programs\\python\\python311\\lib\\site-packages (from langchain>=0.2->paddlex[ie,multimodal,ocr,trans]>=3.1.0->paddleocr) (2.0.42)\n",
      "Requirement already satisfied: tenacity!=8.4.0,<10.0.0,>=8.1.0 in c:\\users\\hp\\appdata\\local\\programs\\python\\python311\\lib\\site-packages (from langchain-core->paddlex[ie,multimodal,ocr,trans]>=3.1.0->paddleocr) (9.1.2)\n",
      "Requirement already satisfied: jsonpatch<2.0,>=1.33 in c:\\users\\hp\\appdata\\local\\programs\\python\\python311\\lib\\site-packages (from langchain-core->paddlex[ie,multimodal,ocr,trans]>=3.1.0->paddleocr) (1.33)\n",
      "Requirement already satisfied: jsonpointer>=1.9 in c:\\users\\hp\\appdata\\local\\programs\\python\\python311\\lib\\site-packages (from jsonpatch<2.0,>=1.33->langchain-core->paddlex[ie,multimodal,ocr,trans]>=3.1.0->paddleocr) (3.0.0)\n",
      "Requirement already satisfied: annotated-types>=0.6.0 in c:\\users\\hp\\appdata\\local\\programs\\python\\python311\\lib\\site-packages (from pydantic>=2->paddlex>=3.1.0->paddlex[ie,multimodal,ocr,trans]>=3.1.0->paddleocr) (0.7.0)\n",
      "Requirement already satisfied: pydantic-core==2.33.2 in c:\\users\\hp\\appdata\\local\\programs\\python\\python311\\lib\\site-packages (from pydantic>=2->paddlex>=3.1.0->paddlex[ie,multimodal,ocr,trans]>=3.1.0->paddleocr) (2.33.2)\n",
      "Requirement already satisfied: typing-inspection>=0.4.0 in c:\\users\\hp\\appdata\\local\\programs\\python\\python311\\lib\\site-packages (from pydantic>=2->paddlex>=3.1.0->paddlex[ie,multimodal,ocr,trans]>=3.1.0->paddleocr) (0.4.1)\n",
      "Requirement already satisfied: charset-normalizer<4,>=2 in c:\\users\\hp\\appdata\\local\\programs\\python\\python311\\lib\\site-packages (from requests->paddlex>=3.1.0->paddlex[ie,multimodal,ocr,trans]>=3.1.0->paddleocr) (3.4.1)\n",
      "Requirement already satisfied: idna<4,>=2.5 in c:\\users\\hp\\appdata\\local\\programs\\python\\python311\\lib\\site-packages (from requests->paddlex>=3.1.0->paddlex[ie,multimodal,ocr,trans]>=3.1.0->paddleocr) (3.10)\n",
      "Requirement already satisfied: urllib3<3,>=1.21.1 in c:\\users\\hp\\appdata\\local\\programs\\python\\python311\\lib\\site-packages (from requests->paddlex>=3.1.0->paddlex[ie,multimodal,ocr,trans]>=3.1.0->paddleocr) (2.3.0)\n",
      "Requirement already satisfied: certifi>=2017.4.17 in c:\\users\\hp\\appdata\\local\\programs\\python\\python311\\lib\\site-packages (from requests->paddlex>=3.1.0->paddlex[ie,multimodal,ocr,trans]>=3.1.0->paddleocr) (2025.1.31)\n",
      "Requirement already satisfied: greenlet>=1 in c:\\users\\hp\\appdata\\local\\programs\\python\\python311\\lib\\site-packages (from SQLAlchemy<3,>=1.4->langchain>=0.2->paddlex[ie,multimodal,ocr,trans]>=3.1.0->paddleocr) (3.2.3)\n",
      "Requirement already satisfied: aiohttp<4.0.0,>=3.8.3 in c:\\users\\hp\\appdata\\local\\programs\\python\\python311\\lib\\site-packages (from langchain-community>=0.2->paddlex[ie,multimodal,ocr,trans]>=3.1.0->paddleocr) (3.12.14)\n",
      "Requirement already satisfied: dataclasses-json<0.7,>=0.5.7 in c:\\users\\hp\\appdata\\local\\programs\\python\\python311\\lib\\site-packages (from langchain-community>=0.2->paddlex[ie,multimodal,ocr,trans]>=3.1.0->paddleocr) (0.6.7)\n",
      "Requirement already satisfied: pydantic-settings<3.0.0,>=2.4.0 in c:\\users\\hp\\appdata\\local\\programs\\python\\python311\\lib\\site-packages (from langchain-community>=0.2->paddlex[ie,multimodal,ocr,trans]>=3.1.0->paddleocr) (2.10.1)\n",
      "Requirement already satisfied: httpx-sse<1.0.0,>=0.4.0 in c:\\users\\hp\\appdata\\local\\programs\\python\\python311\\lib\\site-packages (from langchain-community>=0.2->paddlex[ie,multimodal,ocr,trans]>=3.1.0->paddleocr) (0.4.1)\n",
      "Requirement already satisfied: aiohappyeyeballs>=2.5.0 in c:\\users\\hp\\appdata\\local\\programs\\python\\python311\\lib\\site-packages (from aiohttp<4.0.0,>=3.8.3->langchain-community>=0.2->paddlex[ie,multimodal,ocr,trans]>=3.1.0->paddleocr) (2.6.1)\n",
      "Requirement already satisfied: aiosignal>=1.4.0 in c:\\users\\hp\\appdata\\local\\programs\\python\\python311\\lib\\site-packages (from aiohttp<4.0.0,>=3.8.3->langchain-community>=0.2->paddlex[ie,multimodal,ocr,trans]>=3.1.0->paddleocr) (1.4.0)\n",
      "Requirement already satisfied: attrs>=17.3.0 in c:\\users\\hp\\appdata\\local\\programs\\python\\python311\\lib\\site-packages (from aiohttp<4.0.0,>=3.8.3->langchain-community>=0.2->paddlex[ie,multimodal,ocr,trans]>=3.1.0->paddleocr) (25.1.0)\n",
      "Requirement already satisfied: frozenlist>=1.1.1 in c:\\users\\hp\\appdata\\local\\programs\\python\\python311\\lib\\site-packages (from aiohttp<4.0.0,>=3.8.3->langchain-community>=0.2->paddlex[ie,multimodal,ocr,trans]>=3.1.0->paddleocr) (1.7.0)\n",
      "Requirement already satisfied: multidict<7.0,>=4.5 in c:\\users\\hp\\appdata\\local\\programs\\python\\python311\\lib\\site-packages (from aiohttp<4.0.0,>=3.8.3->langchain-community>=0.2->paddlex[ie,multimodal,ocr,trans]>=3.1.0->paddleocr) (6.6.3)\n",
      "Requirement already satisfied: propcache>=0.2.0 in c:\\users\\hp\\appdata\\local\\programs\\python\\python311\\lib\\site-packages (from aiohttp<4.0.0,>=3.8.3->langchain-community>=0.2->paddlex[ie,multimodal,ocr,trans]>=3.1.0->paddleocr) (0.3.2)\n",
      "Requirement already satisfied: yarl<2.0,>=1.17.0 in c:\\users\\hp\\appdata\\local\\programs\\python\\python311\\lib\\site-packages (from aiohttp<4.0.0,>=3.8.3->langchain-community>=0.2->paddlex[ie,multimodal,ocr,trans]>=3.1.0->paddleocr) (1.20.1)\n",
      "Requirement already satisfied: marshmallow<4.0.0,>=3.18.0 in c:\\users\\hp\\appdata\\local\\programs\\python\\python311\\lib\\site-packages (from dataclasses-json<0.7,>=0.5.7->langchain-community>=0.2->paddlex[ie,multimodal,ocr,trans]>=3.1.0->paddleocr) (3.26.1)\n",
      "Requirement already satisfied: typing-inspect<1,>=0.4.0 in c:\\users\\hp\\appdata\\local\\programs\\python\\python311\\lib\\site-packages (from dataclasses-json<0.7,>=0.5.7->langchain-community>=0.2->paddlex[ie,multimodal,ocr,trans]>=3.1.0->paddleocr) (0.9.0)\n",
      "Requirement already satisfied: python-dotenv>=0.21.0 in c:\\users\\hp\\appdata\\local\\programs\\python\\python311\\lib\\site-packages (from pydantic-settings<3.0.0,>=2.4.0->langchain-community>=0.2->paddlex[ie,multimodal,ocr,trans]>=3.1.0->paddleocr) (1.1.1)\n",
      "Requirement already satisfied: mypy-extensions>=0.3.0 in c:\\users\\hp\\appdata\\local\\programs\\python\\python311\\lib\\site-packages (from typing-inspect<1,>=0.4.0->dataclasses-json<0.7,>=0.5.7->langchain-community>=0.2->paddlex[ie,multimodal,ocr,trans]>=3.1.0->paddleocr) (1.1.0)\n",
      "Requirement already satisfied: anyio<5,>=3.5.0 in c:\\users\\hp\\appdata\\local\\programs\\python\\python311\\lib\\site-packages (from openai>=1.63->paddlex[ie,multimodal,ocr,trans]>=3.1.0->paddleocr) (4.8.0)\n",
      "Requirement already satisfied: distro<2,>=1.7.0 in c:\\users\\hp\\appdata\\local\\programs\\python\\python311\\lib\\site-packages (from openai>=1.63->paddlex[ie,multimodal,ocr,trans]>=3.1.0->paddleocr) (1.9.0)\n",
      "Requirement already satisfied: jiter<1,>=0.4.0 in c:\\users\\hp\\appdata\\local\\programs\\python\\python311\\lib\\site-packages (from openai>=1.63->paddlex[ie,multimodal,ocr,trans]>=3.1.0->paddleocr) (0.10.0)\n",
      "Requirement already satisfied: sniffio in c:\\users\\hp\\appdata\\local\\programs\\python\\python311\\lib\\site-packages (from openai>=1.63->paddlex[ie,multimodal,ocr,trans]>=3.1.0->paddleocr) (1.3.1)\n",
      "Requirement already satisfied: tqdm>4 in c:\\users\\hp\\appdata\\local\\programs\\python\\python311\\lib\\site-packages (from openai>=1.63->paddlex[ie,multimodal,ocr,trans]>=3.1.0->paddleocr) (4.67.1)\n",
      "Requirement already satisfied: httpcore==1.* in c:\\users\\hp\\appdata\\local\\programs\\python\\python311\\lib\\site-packages (from httpx->paddlepaddle) (1.0.7)\n",
      "Requirement already satisfied: h11<0.15,>=0.13 in c:\\users\\hp\\appdata\\local\\programs\\python\\python311\\lib\\site-packages (from httpcore==1.*->httpx->paddlepaddle) (0.14.0)\n",
      "Requirement already satisfied: orjson<4.0.0,>=3.9.14 in c:\\users\\hp\\appdata\\local\\programs\\python\\python311\\lib\\site-packages (from langsmith>=0.1.17->langchain>=0.2->paddlex[ie,multimodal,ocr,trans]>=3.1.0->paddleocr) (3.11.1)\n",
      "Requirement already satisfied: requests-toolbelt<2.0.0,>=1.0.0 in c:\\users\\hp\\appdata\\local\\programs\\python\\python311\\lib\\site-packages (from langsmith>=0.1.17->langchain>=0.2->paddlex[ie,multimodal,ocr,trans]>=3.1.0->paddleocr) (1.0.0)\n",
      "Requirement already satisfied: zstandard<0.24.0,>=0.23.0 in c:\\users\\hp\\appdata\\local\\programs\\python\\python311\\lib\\site-packages (from langsmith>=0.1.17->langchain>=0.2->paddlex[ie,multimodal,ocr,trans]>=3.1.0->paddleocr) (0.23.0)\n",
      "Requirement already satisfied: python-dateutil>=2.8.2 in c:\\users\\hp\\appdata\\roaming\\python\\python311\\site-packages (from pandas>=1.3->paddlex>=3.1.0->paddlex[ie,multimodal,ocr,trans]>=3.1.0->paddleocr) (2.9.0.post0)\n",
      "Requirement already satisfied: pytz>=2020.1 in c:\\users\\hp\\appdata\\local\\programs\\python\\python311\\lib\\site-packages (from pandas>=1.3->paddlex>=3.1.0->paddlex[ie,multimodal,ocr,trans]>=3.1.0->paddleocr) (2025.1)\n",
      "Requirement already satisfied: tzdata>=2022.7 in c:\\users\\hp\\appdata\\local\\programs\\python\\python311\\lib\\site-packages (from pandas>=1.3->paddlex>=3.1.0->paddlex[ie,multimodal,ocr,trans]>=3.1.0->paddleocr) (2025.1)\n",
      "Requirement already satisfied: six>=1.5 in c:\\users\\hp\\appdata\\roaming\\python\\python311\\site-packages (from python-dateutil>=2.8.2->pandas>=1.3->paddlex>=3.1.0->paddlex[ie,multimodal,ocr,trans]>=3.1.0->paddleocr) (1.17.0)\n",
      "Requirement already satisfied: fsspec>=2023.5.0 in c:\\users\\hp\\appdata\\local\\programs\\python\\python311\\lib\\site-packages (from huggingface_hub->paddlex>=3.1.0->paddlex[ie,multimodal,ocr,trans]>=3.1.0->paddleocr) (2025.7.0)\n",
      "Requirement already satisfied: colorama in c:\\users\\hp\\appdata\\roaming\\python\\python311\\site-packages (from tqdm>4->openai>=1.63->paddlex[ie,multimodal,ocr,trans]>=3.1.0->paddleocr) (0.4.6)\n",
      "Requirement already satisfied: soupsieve>1.2 in c:\\users\\hp\\appdata\\local\\programs\\python\\python311\\lib\\site-packages (from beautifulsoup4->paddlex[ie,multimodal,ocr,trans]>=3.1.0->paddleocr) (2.6)\n",
      "Requirement already satisfied: wcwidth in c:\\users\\hp\\appdata\\roaming\\python\\python311\\site-packages (from ftfy->paddlex[ie,multimodal,ocr,trans]>=3.1.0->paddleocr) (0.2.13)\n",
      "Requirement already satisfied: MarkupSafe>=2.0 in c:\\users\\hp\\appdata\\local\\programs\\python\\python311\\lib\\site-packages (from Jinja2->paddlex[ie,multimodal,ocr,trans]>=3.1.0->paddleocr) (3.0.2)\n",
      "Requirement already satisfied: et-xmlfile in c:\\users\\hp\\appdata\\local\\programs\\python\\python311\\lib\\site-packages (from openpyxl->paddlex[ie,multimodal,ocr,trans]>=3.1.0->paddleocr) (2.0.0)\n",
      "Requirement already satisfied: cssselect in c:\\users\\hp\\appdata\\local\\programs\\python\\python311\\lib\\site-packages (from premailer->paddlex[ie,multimodal,ocr,trans]>=3.1.0->paddleocr) (1.3.0)\n",
      "Requirement already satisfied: cssutils in c:\\users\\hp\\appdata\\local\\programs\\python\\python311\\lib\\site-packages (from premailer->paddlex[ie,multimodal,ocr,trans]>=3.1.0->paddleocr) (2.11.1)\n",
      "Requirement already satisfied: cachetools in c:\\users\\hp\\appdata\\local\\programs\\python\\python311\\lib\\site-packages (from premailer->paddlex[ie,multimodal,ocr,trans]>=3.1.0->paddleocr) (5.5.2)\n",
      "Requirement already satisfied: more-itertools in c:\\users\\hp\\appdata\\local\\programs\\python\\python311\\lib\\site-packages (from cssutils->premailer->paddlex[ie,multimodal,ocr,trans]>=3.1.0->paddleocr) (10.7.0)\n",
      "Requirement already satisfied: ruamel.yaml.clib>=0.2.7 in c:\\users\\hp\\appdata\\local\\programs\\python\\python311\\lib\\site-packages (from ruamel.yaml->paddlex>=3.1.0->paddlex[ie,multimodal,ocr,trans]>=3.1.0->paddleocr) (0.2.12)\n",
      "Requirement already satisfied: scipy>=1.6.0 in c:\\users\\hp\\appdata\\local\\programs\\python\\python311\\lib\\site-packages (from scikit-learn->paddlex[ie,multimodal,ocr,trans]>=3.1.0->paddleocr) (1.15.2)\n",
      "Requirement already satisfied: joblib>=1.2.0 in c:\\users\\hp\\appdata\\local\\programs\\python\\python311\\lib\\site-packages (from scikit-learn->paddlex[ie,multimodal,ocr,trans]>=3.1.0->paddleocr) (1.4.2)\n",
      "Requirement already satisfied: threadpoolctl>=3.1.0 in c:\\users\\hp\\appdata\\local\\programs\\python\\python311\\lib\\site-packages (from scikit-learn->paddlex[ie,multimodal,ocr,trans]>=3.1.0->paddleocr) (3.5.0)\n"
     ]
    }
   ],
   "source": [
    "!pip install paddleocr paddlepaddle pdf2image python-docx pdf2docx opencv-python"
   ]
  },
  {
   "cell_type": "code",
   "execution_count": 2,
   "id": "7673c9c8",
   "metadata": {},
   "outputs": [
    {
     "name": "stderr",
     "output_type": "stream",
     "text": [
      "c:\\Users\\HP\\AppData\\Local\\Programs\\Python\\Python311\\Lib\\site-packages\\paddle\\utils\\cpp_extension\\extension_utils.py:715: UserWarning: No ccache found. Please be aware that recompiling all source files may be required. You can download and install ccache from: https://github.com/ccache/ccache/blob/master/doc/INSTALL.md\n",
      "  warnings.warn(warning_message)\n"
     ]
    },
    {
     "name": "stdout",
     "output_type": "stream",
     "text": [
      "Running verify PaddlePaddle program ... \n",
      "PaddlePaddle works well on 1 CPU.\n",
      "PaddlePaddle is installed successfully! Let's start deep learning with PaddlePaddle now.\n"
     ]
    }
   ],
   "source": [
    "import paddle\n",
    "paddle.utils.run_check()"
   ]
  },
  {
   "cell_type": "code",
   "execution_count": 9,
   "id": "24da837f",
   "metadata": {},
   "outputs": [
    {
     "name": "stdout",
     "output_type": "stream",
     "text": [
      "Converted pages: ['./pdf_images/page_1.jpg']\n"
     ]
    }
   ],
   "source": [
    "from pdf2image import convert_from_path\n",
    "import os\n",
    "\n",
    "pdf_path = \"C:\\\\Users\\\\HP\\\\kreativetimebox-task\\\\CUSTOM LLM\\\\paddleOcr\\\\Barclays_uk_bank_statement.pdf\"  # change to your file path\n",
    "image_output_dir = './pdf_images/'\n",
    "os.makedirs(image_output_dir, exist_ok=True)\n",
    "\n",
    "pages = convert_from_path(pdf_path, 300)\n",
    "image_paths = []\n",
    "\n",
    "for i, page in enumerate(pages):\n",
    "    img_path = os.path.join(image_output_dir, f'page_{i+1}.jpg')\n",
    "    page.save(img_path, 'JPEG')\n",
    "    image_paths.append(img_path)\n",
    "\n",
    "print(\"Converted pages:\", image_paths)\n"
   ]
  },
  {
   "cell_type": "code",
   "execution_count": 17,
   "id": "fcb58232",
   "metadata": {},
   "outputs": [
    {
     "name": "stderr",
     "output_type": "stream",
     "text": [
      "\u001b[32mCreating model: ('PP-DocBlockLayout', None)\u001b[0m\n",
      "\u001b[32mUsing official model (PP-DocBlockLayout), the model files will be automatically downloaded and saved in C:\\Users\\HP\\.paddlex\\official_models.\u001b[0m\n"
     ]
    },
    {
     "data": {
      "application/vnd.jupyter.widget-view+json": {
       "model_id": "c2d3937584bc40adbf1abed3d048deba",
       "version_major": 2,
       "version_minor": 0
      },
      "text/plain": [
       "Fetching 6 files:   0%|          | 0/6 [00:00<?, ?it/s]"
      ]
     },
     "metadata": {},
     "output_type": "display_data"
    },
    {
     "name": "stderr",
     "output_type": "stream",
     "text": [
      "\u001b[32mCreating model: ('PP-DocLayout_plus-L', None)\u001b[0m\n",
      "\u001b[32mUsing official model (PP-DocLayout_plus-L), the model files will be automatically downloaded and saved in C:\\Users\\HP\\.paddlex\\official_models.\u001b[0m\n"
     ]
    },
    {
     "data": {
      "application/vnd.jupyter.widget-view+json": {
       "model_id": "a9a5e6d7ce6943d5b1f9f8deaea45192",
       "version_major": 2,
       "version_minor": 0
      },
      "text/plain": [
       "Fetching 6 files:   0%|          | 0/6 [00:00<?, ?it/s]"
      ]
     },
     "metadata": {},
     "output_type": "display_data"
    },
    {
     "name": "stderr",
     "output_type": "stream",
     "text": [
      "\u001b[32mCreating model: ('PP-LCNet_x1_0_textline_ori', None)\u001b[0m\n",
      "\u001b[32mUsing official model (PP-LCNet_x1_0_textline_ori), the model files will be automatically downloaded and saved in C:\\Users\\HP\\.paddlex\\official_models.\u001b[0m\n"
     ]
    },
    {
     "data": {
      "application/vnd.jupyter.widget-view+json": {
       "model_id": "de7165358197416eb238b7a9ade2fcf0",
       "version_major": 2,
       "version_minor": 0
      },
      "text/plain": [
       "Fetching 6 files:   0%|          | 0/6 [00:00<?, ?it/s]"
      ]
     },
     "metadata": {},
     "output_type": "display_data"
    },
    {
     "name": "stderr",
     "output_type": "stream",
     "text": [
      "\u001b[32mCreating model: ('PP-OCRv5_server_det', None)\u001b[0m\n",
      "\u001b[32mUsing official model (PP-OCRv5_server_det), the model files will be automatically downloaded and saved in C:\\Users\\HP\\.paddlex\\official_models.\u001b[0m\n"
     ]
    },
    {
     "data": {
      "application/vnd.jupyter.widget-view+json": {
       "model_id": "b6e6d7e17e61424a94ce39bb98854ffb",
       "version_major": 2,
       "version_minor": 0
      },
      "text/plain": [
       "Fetching 6 files:   0%|          | 0/6 [00:00<?, ?it/s]"
      ]
     },
     "metadata": {},
     "output_type": "display_data"
    },
    {
     "name": "stderr",
     "output_type": "stream",
     "text": [
      "\u001b[32mCreating model: ('PP-OCRv5_server_rec', None)\u001b[0m\n",
      "\u001b[32mUsing official model (PP-OCRv5_server_rec), the model files will be automatically downloaded and saved in C:\\Users\\HP\\.paddlex\\official_models.\u001b[0m\n"
     ]
    },
    {
     "data": {
      "application/vnd.jupyter.widget-view+json": {
       "model_id": "dd5b18a9ff9648a59fa001edbe24cbfa",
       "version_major": 2,
       "version_minor": 0
      },
      "text/plain": [
       "Fetching 6 files:   0%|          | 0/6 [00:00<?, ?it/s]"
      ]
     },
     "metadata": {},
     "output_type": "display_data"
    },
    {
     "name": "stderr",
     "output_type": "stream",
     "text": [
      "\u001b[32mCreating model: ('PP-OCRv4_server_seal_det', None)\u001b[0m\n",
      "\u001b[32mUsing official model (PP-OCRv4_server_seal_det), the model files will be automatically downloaded and saved in C:\\Users\\HP\\.paddlex\\official_models.\u001b[0m\n"
     ]
    },
    {
     "data": {
      "application/vnd.jupyter.widget-view+json": {
       "model_id": "86ad7b460d8a46dab70f4fc789623f30",
       "version_major": 2,
       "version_minor": 0
      },
      "text/plain": [
       "Fetching 6 files:   0%|          | 0/6 [00:00<?, ?it/s]"
      ]
     },
     "metadata": {},
     "output_type": "display_data"
    },
    {
     "name": "stderr",
     "output_type": "stream",
     "text": [
      "\u001b[32mCreating model: ('PP-OCRv5_server_rec', None)\u001b[0m\n",
      "\u001b[32mUsing official model (PP-OCRv5_server_rec), the model files will be automatically downloaded and saved in C:\\Users\\HP\\.paddlex\\official_models.\u001b[0m\n"
     ]
    },
    {
     "data": {
      "application/vnd.jupyter.widget-view+json": {
       "model_id": "097a9fa47b5b413db2ce5b0acb015520",
       "version_major": 2,
       "version_minor": 0
      },
      "text/plain": [
       "Fetching 6 files:   0%|          | 0/6 [00:00<?, ?it/s]"
      ]
     },
     "metadata": {},
     "output_type": "display_data"
    },
    {
     "name": "stderr",
     "output_type": "stream",
     "text": [
      "\u001b[32mCreating model: ('PP-LCNet_x1_0_table_cls', None)\u001b[0m\n",
      "\u001b[32mUsing official model (PP-LCNet_x1_0_table_cls), the model files will be automatically downloaded and saved in C:\\Users\\HP\\.paddlex\\official_models.\u001b[0m\n"
     ]
    },
    {
     "data": {
      "application/vnd.jupyter.widget-view+json": {
       "model_id": "0854fd2271b942f2b754cb8d8c4b03e4",
       "version_major": 2,
       "version_minor": 0
      },
      "text/plain": [
       "Fetching 6 files:   0%|          | 0/6 [00:00<?, ?it/s]"
      ]
     },
     "metadata": {},
     "output_type": "display_data"
    },
    {
     "name": "stderr",
     "output_type": "stream",
     "text": [
      "\u001b[32mCreating model: ('SLANeXt_wired', None)\u001b[0m\n",
      "\u001b[33mThe model(SLANeXt_wired) is not supported to run in MKLDNN mode! Using `paddle` instead!\u001b[0m\n",
      "\u001b[32mUsing official model (SLANeXt_wired), the model files will be automatically downloaded and saved in C:\\Users\\HP\\.paddlex\\official_models.\u001b[0m\n"
     ]
    },
    {
     "data": {
      "application/vnd.jupyter.widget-view+json": {
       "model_id": "652a4597a8ca4a7282ade7f83928ee34",
       "version_major": 2,
       "version_minor": 0
      },
      "text/plain": [
       "Fetching 6 files:   0%|          | 0/6 [00:00<?, ?it/s]"
      ]
     },
     "metadata": {},
     "output_type": "display_data"
    },
    {
     "name": "stderr",
     "output_type": "stream",
     "text": [
      "\u001b[32mCreating model: ('SLANet_plus', None)\u001b[0m\n",
      "\u001b[33mThe model(SLANet_plus) is not supported to run in MKLDNN mode! Using `paddle` instead!\u001b[0m\n",
      "\u001b[32mUsing official model (SLANet_plus), the model files will be automatically downloaded and saved in C:\\Users\\HP\\.paddlex\\official_models.\u001b[0m\n"
     ]
    },
    {
     "data": {
      "application/vnd.jupyter.widget-view+json": {
       "model_id": "31accf00b1fe49b8a20a07fd4e62f957",
       "version_major": 2,
       "version_minor": 0
      },
      "text/plain": [
       "Fetching 6 files:   0%|          | 0/6 [00:00<?, ?it/s]"
      ]
     },
     "metadata": {},
     "output_type": "display_data"
    },
    {
     "name": "stderr",
     "output_type": "stream",
     "text": [
      "\u001b[32mCreating model: ('RT-DETR-L_wired_table_cell_det', None)\u001b[0m\n",
      "\u001b[32mUsing official model (RT-DETR-L_wired_table_cell_det), the model files will be automatically downloaded and saved in C:\\Users\\HP\\.paddlex\\official_models.\u001b[0m\n"
     ]
    },
    {
     "data": {
      "application/vnd.jupyter.widget-view+json": {
       "model_id": "f987e83033a144ff917f24fb06db7f05",
       "version_major": 2,
       "version_minor": 0
      },
      "text/plain": [
       "Fetching 6 files:   0%|          | 0/6 [00:00<?, ?it/s]"
      ]
     },
     "metadata": {},
     "output_type": "display_data"
    },
    {
     "name": "stderr",
     "output_type": "stream",
     "text": [
      "\u001b[32mCreating model: ('RT-DETR-L_wireless_table_cell_det', None)\u001b[0m\n",
      "\u001b[32mUsing official model (RT-DETR-L_wireless_table_cell_det), the model files will be automatically downloaded and saved in C:\\Users\\HP\\.paddlex\\official_models.\u001b[0m\n"
     ]
    },
    {
     "data": {
      "application/vnd.jupyter.widget-view+json": {
       "model_id": "a94fff692982498086d2676266fa67dd",
       "version_major": 2,
       "version_minor": 0
      },
      "text/plain": [
       "Fetching 6 files:   0%|          | 0/6 [00:00<?, ?it/s]"
      ]
     },
     "metadata": {},
     "output_type": "display_data"
    },
    {
     "name": "stderr",
     "output_type": "stream",
     "text": [
      "\u001b[32mCreating model: ('PP-FormulaNet_plus-L', None)\u001b[0m\n",
      "\u001b[33mThe model(PP-FormulaNet_plus-L) is not supported to run in MKLDNN mode! Using `paddle` instead!\u001b[0m\n",
      "\u001b[32mUsing official model (PP-FormulaNet_plus-L), the model files will be automatically downloaded and saved in C:\\Users\\HP\\.paddlex\\official_models.\u001b[0m\n"
     ]
    },
    {
     "data": {
      "application/vnd.jupyter.widget-view+json": {
       "model_id": "485710d3782541c5823dac0a8f0a25b4",
       "version_major": 2,
       "version_minor": 0
      },
      "text/plain": [
       "Fetching 6 files:   0%|          | 0/6 [00:00<?, ?it/s]"
      ]
     },
     "metadata": {},
     "output_type": "display_data"
    },
    {
     "name": "stderr",
     "output_type": "stream",
     "text": [
      "\u001b[32mCreating model: ('PP-Chart2Table', None)\u001b[0m\n",
      "\u001b[32mUsing official model (PP-Chart2Table), the model files will be automatically downloaded and saved in C:\\Users\\HP\\.paddlex\\official_models.\u001b[0m\n"
     ]
    },
    {
     "data": {
      "application/vnd.jupyter.widget-view+json": {
       "model_id": "a3dbca0b905545ef871ad77ab50e2a62",
       "version_major": 2,
       "version_minor": 0
      },
      "text/plain": [
       "Fetching 10 files:   0%|          | 0/10 [00:00<?, ?it/s]"
      ]
     },
     "metadata": {},
     "output_type": "display_data"
    },
    {
     "name": "stderr",
     "output_type": "stream",
     "text": [
      "\u001b[32mSpecial tokens have been added in the vocabulary, make sure the associated word embeddings are fine-tuned or trained.\u001b[0m\n",
      "\u001b[32mLoading configuration file C:\\Users\\HP\\.paddlex\\official_models\\PP-Chart2Table\\config.json\u001b[0m\n",
      "\u001b[32mLoading weights file C:\\Users\\HP\\.paddlex\\official_models\\PP-Chart2Table\\model_state.pdparams\u001b[0m\n",
      "\u001b[32mLoaded weights file from disk, setting weights to model.\u001b[0m\n",
      "\u001b[32mAll model checkpoint weights were used when initializing PPChart2TableInference.\n",
      "\u001b[0m\n",
      "\u001b[32mAll the weights of PPChart2TableInference were initialized from the model checkpoint at C:\\Users\\HP\\.paddlex\\official_models\\PP-Chart2Table.\n",
      "If your task is similar to the task the model of the checkpoint was trained on, you can already use PPChart2TableInference for predictions without further training.\u001b[0m\n",
      "\u001b[32mLoading configuration file C:\\Users\\HP\\.paddlex\\official_models\\PP-Chart2Table\\generation_config.json\u001b[0m\n"
     ]
    },
    {
     "ename": "RuntimeError",
     "evalue": "Unknown exception",
     "output_type": "error",
     "traceback": [
      "\u001b[1;31m---------------------------------------------------------------------------\u001b[0m",
      "\u001b[1;31mRuntimeError\u001b[0m                              Traceback (most recent call last)",
      "Cell \u001b[1;32mIn[17], line 10\u001b[0m\n\u001b[0;32m      4\u001b[0m pipeline \u001b[38;5;241m=\u001b[39m PPStructureV3(\n\u001b[0;32m      5\u001b[0m     use_doc_orientation_classify\u001b[38;5;241m=\u001b[39m\u001b[38;5;28;01mFalse\u001b[39;00m,\n\u001b[0;32m      6\u001b[0m     use_doc_unwarping\u001b[38;5;241m=\u001b[39m\u001b[38;5;28;01mFalse\u001b[39;00m\n\u001b[0;32m      7\u001b[0m )\n\u001b[0;32m      9\u001b[0m \u001b[38;5;66;03m# For Image\u001b[39;00m\n\u001b[1;32m---> 10\u001b[0m output \u001b[38;5;241m=\u001b[39m \u001b[43mpipeline\u001b[49m\u001b[38;5;241;43m.\u001b[39;49m\u001b[43mpredict\u001b[49m\u001b[43m(\u001b[49m\n\u001b[0;32m     11\u001b[0m \u001b[43m    \u001b[49m\u001b[38;5;28;43minput\u001b[39;49m\u001b[38;5;241;43m=\u001b[39;49m\u001b[38;5;124;43m\"\u001b[39;49m\u001b[38;5;124;43mC:\u001b[39;49m\u001b[38;5;130;43;01m\\\\\u001b[39;49;00m\u001b[38;5;124;43mUsers\u001b[39;49m\u001b[38;5;130;43;01m\\\\\u001b[39;49;00m\u001b[38;5;124;43mHP\u001b[39;49m\u001b[38;5;130;43;01m\\\\\u001b[39;49;00m\u001b[38;5;124;43mkreativetimebox-task\u001b[39;49m\u001b[38;5;130;43;01m\\\\\u001b[39;49;00m\u001b[38;5;124;43mCUSTOM LLM\u001b[39;49m\u001b[38;5;130;43;01m\\\\\u001b[39;49;00m\u001b[38;5;124;43mpaddleOcr\u001b[39;49m\u001b[38;5;130;43;01m\\\\\u001b[39;49;00m\u001b[38;5;124;43mpdf_images\u001b[39;49m\u001b[38;5;130;43;01m\\\\\u001b[39;49;00m\u001b[38;5;124;43mpage_1.jpg\u001b[39;49m\u001b[38;5;124;43m\"\u001b[39;49m\u001b[43m,\u001b[49m\n\u001b[0;32m     12\u001b[0m \u001b[43m)\u001b[49m\n\u001b[0;32m     14\u001b[0m \u001b[38;5;66;03m# Visualize the results and save the JSON results\u001b[39;00m\n\u001b[0;32m     15\u001b[0m \u001b[38;5;28;01mfor\u001b[39;00m res \u001b[38;5;129;01min\u001b[39;00m output:\n",
      "File \u001b[1;32mc:\\Users\\HP\\AppData\\Local\\Programs\\Python\\Python311\\Lib\\site-packages\\paddleocr\\_pipelines\\pp_structurev3.py:211\u001b[0m, in \u001b[0;36mPPStructureV3.predict\u001b[1;34m(self, input, use_doc_orientation_classify, use_doc_unwarping, use_textline_orientation, use_seal_recognition, use_table_recognition, use_formula_recognition, use_chart_recognition, use_region_detection, layout_threshold, layout_nms, layout_unclip_ratio, layout_merge_bboxes_mode, text_det_limit_side_len, text_det_limit_type, text_det_thresh, text_det_box_thresh, text_det_unclip_ratio, text_rec_score_thresh, seal_det_limit_side_len, seal_det_limit_type, seal_det_thresh, seal_det_box_thresh, seal_det_unclip_ratio, seal_rec_score_thresh, use_wired_table_cells_trans_to_html, use_wireless_table_cells_trans_to_html, use_table_orientation_classify, use_ocr_results_with_table_cells, use_e2e_wired_table_rec_model, use_e2e_wireless_table_rec_model, **kwargs)\u001b[0m\n\u001b[0;32m    175\u001b[0m \u001b[38;5;28;01mdef\u001b[39;00m\u001b[38;5;250m \u001b[39m\u001b[38;5;21mpredict\u001b[39m(\n\u001b[0;32m    176\u001b[0m     \u001b[38;5;28mself\u001b[39m,\n\u001b[0;32m    177\u001b[0m     \u001b[38;5;28minput\u001b[39m,\n\u001b[1;32m   (...)\u001b[0m\n\u001b[0;32m    209\u001b[0m     \u001b[38;5;241m*\u001b[39m\u001b[38;5;241m*\u001b[39mkwargs,\n\u001b[0;32m    210\u001b[0m ):\n\u001b[1;32m--> 211\u001b[0m     \u001b[38;5;28;01mreturn\u001b[39;00m \u001b[38;5;28;43mlist\u001b[39;49m\u001b[43m(\u001b[49m\n\u001b[0;32m    212\u001b[0m \u001b[43m        \u001b[49m\u001b[38;5;28;43mself\u001b[39;49m\u001b[38;5;241;43m.\u001b[39;49m\u001b[43mpredict_iter\u001b[49m\u001b[43m(\u001b[49m\n\u001b[0;32m    213\u001b[0m \u001b[43m            \u001b[49m\u001b[38;5;28;43minput\u001b[39;49m\u001b[43m,\u001b[49m\n\u001b[0;32m    214\u001b[0m \u001b[43m            \u001b[49m\u001b[43muse_doc_orientation_classify\u001b[49m\u001b[38;5;241;43m=\u001b[39;49m\u001b[43muse_doc_orientation_classify\u001b[49m\u001b[43m,\u001b[49m\n\u001b[0;32m    215\u001b[0m \u001b[43m            \u001b[49m\u001b[43muse_doc_unwarping\u001b[49m\u001b[38;5;241;43m=\u001b[39;49m\u001b[43muse_doc_unwarping\u001b[49m\u001b[43m,\u001b[49m\n\u001b[0;32m    216\u001b[0m \u001b[43m            \u001b[49m\u001b[43muse_textline_orientation\u001b[49m\u001b[38;5;241;43m=\u001b[39;49m\u001b[43muse_textline_orientation\u001b[49m\u001b[43m,\u001b[49m\n\u001b[0;32m    217\u001b[0m \u001b[43m            \u001b[49m\u001b[43muse_seal_recognition\u001b[49m\u001b[38;5;241;43m=\u001b[39;49m\u001b[43muse_seal_recognition\u001b[49m\u001b[43m,\u001b[49m\n\u001b[0;32m    218\u001b[0m \u001b[43m            \u001b[49m\u001b[43muse_table_recognition\u001b[49m\u001b[38;5;241;43m=\u001b[39;49m\u001b[43muse_table_recognition\u001b[49m\u001b[43m,\u001b[49m\n\u001b[0;32m    219\u001b[0m \u001b[43m            \u001b[49m\u001b[43muse_formula_recognition\u001b[49m\u001b[38;5;241;43m=\u001b[39;49m\u001b[43muse_formula_recognition\u001b[49m\u001b[43m,\u001b[49m\n\u001b[0;32m    220\u001b[0m \u001b[43m            \u001b[49m\u001b[43muse_chart_recognition\u001b[49m\u001b[38;5;241;43m=\u001b[39;49m\u001b[43muse_chart_recognition\u001b[49m\u001b[43m,\u001b[49m\n\u001b[0;32m    221\u001b[0m \u001b[43m            \u001b[49m\u001b[43muse_region_detection\u001b[49m\u001b[38;5;241;43m=\u001b[39;49m\u001b[43muse_region_detection\u001b[49m\u001b[43m,\u001b[49m\n\u001b[0;32m    222\u001b[0m \u001b[43m            \u001b[49m\u001b[43mlayout_threshold\u001b[49m\u001b[38;5;241;43m=\u001b[39;49m\u001b[43mlayout_threshold\u001b[49m\u001b[43m,\u001b[49m\n\u001b[0;32m    223\u001b[0m \u001b[43m            \u001b[49m\u001b[43mlayout_nms\u001b[49m\u001b[38;5;241;43m=\u001b[39;49m\u001b[43mlayout_nms\u001b[49m\u001b[43m,\u001b[49m\n\u001b[0;32m    224\u001b[0m \u001b[43m            \u001b[49m\u001b[43mlayout_unclip_ratio\u001b[49m\u001b[38;5;241;43m=\u001b[39;49m\u001b[43mlayout_unclip_ratio\u001b[49m\u001b[43m,\u001b[49m\n\u001b[0;32m    225\u001b[0m \u001b[43m            \u001b[49m\u001b[43mlayout_merge_bboxes_mode\u001b[49m\u001b[38;5;241;43m=\u001b[39;49m\u001b[43mlayout_merge_bboxes_mode\u001b[49m\u001b[43m,\u001b[49m\n\u001b[0;32m    226\u001b[0m \u001b[43m            \u001b[49m\u001b[43mtext_det_limit_side_len\u001b[49m\u001b[38;5;241;43m=\u001b[39;49m\u001b[43mtext_det_limit_side_len\u001b[49m\u001b[43m,\u001b[49m\n\u001b[0;32m    227\u001b[0m \u001b[43m            \u001b[49m\u001b[43mtext_det_limit_type\u001b[49m\u001b[38;5;241;43m=\u001b[39;49m\u001b[43mtext_det_limit_type\u001b[49m\u001b[43m,\u001b[49m\n\u001b[0;32m    228\u001b[0m \u001b[43m            \u001b[49m\u001b[43mtext_det_thresh\u001b[49m\u001b[38;5;241;43m=\u001b[39;49m\u001b[43mtext_det_thresh\u001b[49m\u001b[43m,\u001b[49m\n\u001b[0;32m    229\u001b[0m \u001b[43m            \u001b[49m\u001b[43mtext_det_box_thresh\u001b[49m\u001b[38;5;241;43m=\u001b[39;49m\u001b[43mtext_det_box_thresh\u001b[49m\u001b[43m,\u001b[49m\n\u001b[0;32m    230\u001b[0m \u001b[43m            \u001b[49m\u001b[43mtext_det_unclip_ratio\u001b[49m\u001b[38;5;241;43m=\u001b[39;49m\u001b[43mtext_det_unclip_ratio\u001b[49m\u001b[43m,\u001b[49m\n\u001b[0;32m    231\u001b[0m \u001b[43m            \u001b[49m\u001b[43mtext_rec_score_thresh\u001b[49m\u001b[38;5;241;43m=\u001b[39;49m\u001b[43mtext_rec_score_thresh\u001b[49m\u001b[43m,\u001b[49m\n\u001b[0;32m    232\u001b[0m \u001b[43m            \u001b[49m\u001b[43mseal_det_limit_side_len\u001b[49m\u001b[38;5;241;43m=\u001b[39;49m\u001b[43mseal_det_limit_side_len\u001b[49m\u001b[43m,\u001b[49m\n\u001b[0;32m    233\u001b[0m \u001b[43m            \u001b[49m\u001b[43mseal_det_limit_type\u001b[49m\u001b[38;5;241;43m=\u001b[39;49m\u001b[43mseal_det_limit_type\u001b[49m\u001b[43m,\u001b[49m\n\u001b[0;32m    234\u001b[0m \u001b[43m            \u001b[49m\u001b[43mseal_det_thresh\u001b[49m\u001b[38;5;241;43m=\u001b[39;49m\u001b[43mseal_det_thresh\u001b[49m\u001b[43m,\u001b[49m\n\u001b[0;32m    235\u001b[0m \u001b[43m            \u001b[49m\u001b[43mseal_det_box_thresh\u001b[49m\u001b[38;5;241;43m=\u001b[39;49m\u001b[43mseal_det_box_thresh\u001b[49m\u001b[43m,\u001b[49m\n\u001b[0;32m    236\u001b[0m \u001b[43m            \u001b[49m\u001b[43mseal_det_unclip_ratio\u001b[49m\u001b[38;5;241;43m=\u001b[39;49m\u001b[43mseal_det_unclip_ratio\u001b[49m\u001b[43m,\u001b[49m\n\u001b[0;32m    237\u001b[0m \u001b[43m            \u001b[49m\u001b[43mseal_rec_score_thresh\u001b[49m\u001b[38;5;241;43m=\u001b[39;49m\u001b[43mseal_rec_score_thresh\u001b[49m\u001b[43m,\u001b[49m\n\u001b[0;32m    238\u001b[0m \u001b[43m            \u001b[49m\u001b[43muse_wired_table_cells_trans_to_html\u001b[49m\u001b[38;5;241;43m=\u001b[39;49m\u001b[43muse_wired_table_cells_trans_to_html\u001b[49m\u001b[43m,\u001b[49m\n\u001b[0;32m    239\u001b[0m \u001b[43m            \u001b[49m\u001b[43muse_wireless_table_cells_trans_to_html\u001b[49m\u001b[38;5;241;43m=\u001b[39;49m\u001b[43muse_wireless_table_cells_trans_to_html\u001b[49m\u001b[43m,\u001b[49m\n\u001b[0;32m    240\u001b[0m \u001b[43m            \u001b[49m\u001b[43muse_table_orientation_classify\u001b[49m\u001b[38;5;241;43m=\u001b[39;49m\u001b[43muse_table_orientation_classify\u001b[49m\u001b[43m,\u001b[49m\n\u001b[0;32m    241\u001b[0m \u001b[43m            \u001b[49m\u001b[43muse_ocr_results_with_table_cells\u001b[49m\u001b[38;5;241;43m=\u001b[39;49m\u001b[43muse_ocr_results_with_table_cells\u001b[49m\u001b[43m,\u001b[49m\n\u001b[0;32m    242\u001b[0m \u001b[43m            \u001b[49m\u001b[43muse_e2e_wired_table_rec_model\u001b[49m\u001b[38;5;241;43m=\u001b[39;49m\u001b[43muse_e2e_wired_table_rec_model\u001b[49m\u001b[43m,\u001b[49m\n\u001b[0;32m    243\u001b[0m \u001b[43m            \u001b[49m\u001b[43muse_e2e_wireless_table_rec_model\u001b[49m\u001b[38;5;241;43m=\u001b[39;49m\u001b[43muse_e2e_wireless_table_rec_model\u001b[49m\u001b[43m,\u001b[49m\n\u001b[0;32m    244\u001b[0m \u001b[43m            \u001b[49m\u001b[38;5;241;43m*\u001b[39;49m\u001b[38;5;241;43m*\u001b[39;49m\u001b[43mkwargs\u001b[49m\u001b[43m,\u001b[49m\n\u001b[0;32m    245\u001b[0m \u001b[43m        \u001b[49m\u001b[43m)\u001b[49m\n\u001b[0;32m    246\u001b[0m \u001b[43m    \u001b[49m\u001b[43m)\u001b[49m\n",
      "File \u001b[1;32mc:\\Users\\HP\\AppData\\Local\\Programs\\Python\\Python311\\Lib\\site-packages\\paddlex\\inference\\pipelines\\_parallel.py:129\u001b[0m, in \u001b[0;36mAutoParallelSimpleInferencePipeline.predict\u001b[1;34m(self, input, *args, **kwargs)\u001b[0m\n\u001b[0;32m    123\u001b[0m     \u001b[38;5;28;01myield from\u001b[39;00m \u001b[38;5;28mself\u001b[39m\u001b[38;5;241m.\u001b[39m_executor\u001b[38;5;241m.\u001b[39mexecute(\n\u001b[0;32m    124\u001b[0m         \u001b[38;5;28minput\u001b[39m,\n\u001b[0;32m    125\u001b[0m         \u001b[38;5;241m*\u001b[39margs,\n\u001b[0;32m    126\u001b[0m         \u001b[38;5;241m*\u001b[39m\u001b[38;5;241m*\u001b[39mkwargs,\n\u001b[0;32m    127\u001b[0m     )\n\u001b[0;32m    128\u001b[0m \u001b[38;5;28;01melse\u001b[39;00m:\n\u001b[1;32m--> 129\u001b[0m     \u001b[38;5;28;01myield from\u001b[39;00m \u001b[38;5;28mself\u001b[39m\u001b[38;5;241m.\u001b[39m_pipeline\u001b[38;5;241m.\u001b[39mpredict(\n\u001b[0;32m    130\u001b[0m         \u001b[38;5;28minput\u001b[39m,\n\u001b[0;32m    131\u001b[0m         \u001b[38;5;241m*\u001b[39margs,\n\u001b[0;32m    132\u001b[0m         \u001b[38;5;241m*\u001b[39m\u001b[38;5;241m*\u001b[39mkwargs,\n\u001b[0;32m    133\u001b[0m     )\n",
      "File \u001b[1;32mc:\\Users\\HP\\AppData\\Local\\Programs\\Python\\Python311\\Lib\\site-packages\\paddlex\\inference\\pipelines\\layout_parsing\\pipeline_v2.py:1048\u001b[0m, in \u001b[0;36m_LayoutParsingPipelineV2.predict\u001b[1;34m(self, input, use_doc_orientation_classify, use_doc_unwarping, use_textline_orientation, use_seal_recognition, use_table_recognition, use_formula_recognition, use_chart_recognition, use_region_detection, layout_threshold, layout_nms, layout_unclip_ratio, layout_merge_bboxes_mode, text_det_limit_side_len, text_det_limit_type, text_det_thresh, text_det_box_thresh, text_det_unclip_ratio, text_rec_score_thresh, seal_det_limit_side_len, seal_det_limit_type, seal_det_thresh, seal_det_box_thresh, seal_det_unclip_ratio, seal_rec_score_thresh, use_wired_table_cells_trans_to_html, use_wireless_table_cells_trans_to_html, use_table_orientation_classify, use_ocr_results_with_table_cells, use_e2e_wired_table_rec_model, use_e2e_wireless_table_rec_model, **kwargs)\u001b[0m\n\u001b[0;32m   1045\u001b[0m         x_min, y_min, x_max, y_max \u001b[38;5;241m=\u001b[39m \u001b[38;5;28mlist\u001b[39m(\u001b[38;5;28mmap\u001b[39m(\u001b[38;5;28mint\u001b[39m, formula_res[\u001b[38;5;124m\"\u001b[39m\u001b[38;5;124mdt_polys\u001b[39m\u001b[38;5;124m\"\u001b[39m]))\n\u001b[0;32m   1046\u001b[0m         doc_preprocessor_image[y_min:y_max, x_min:x_max, :] \u001b[38;5;241m=\u001b[39m \u001b[38;5;241m255.0\u001b[39m\n\u001b[1;32m-> 1048\u001b[0m overall_ocr_results \u001b[38;5;241m=\u001b[39m \u001b[38;5;28mlist\u001b[39m(\n\u001b[0;32m   1049\u001b[0m     \u001b[38;5;28mself\u001b[39m\u001b[38;5;241m.\u001b[39mgeneral_ocr_pipeline(\n\u001b[0;32m   1050\u001b[0m         doc_preprocessor_images,\n\u001b[0;32m   1051\u001b[0m         use_textline_orientation\u001b[38;5;241m=\u001b[39muse_textline_orientation,\n\u001b[0;32m   1052\u001b[0m         text_det_limit_side_len\u001b[38;5;241m=\u001b[39mtext_det_limit_side_len,\n\u001b[0;32m   1053\u001b[0m         text_det_limit_type\u001b[38;5;241m=\u001b[39mtext_det_limit_type,\n\u001b[0;32m   1054\u001b[0m         text_det_thresh\u001b[38;5;241m=\u001b[39mtext_det_thresh,\n\u001b[0;32m   1055\u001b[0m         text_det_box_thresh\u001b[38;5;241m=\u001b[39mtext_det_box_thresh,\n\u001b[0;32m   1056\u001b[0m         text_det_unclip_ratio\u001b[38;5;241m=\u001b[39mtext_det_unclip_ratio,\n\u001b[0;32m   1057\u001b[0m         text_rec_score_thresh\u001b[38;5;241m=\u001b[39mtext_rec_score_thresh,\n\u001b[0;32m   1058\u001b[0m     ),\n\u001b[0;32m   1059\u001b[0m )\n\u001b[0;32m   1061\u001b[0m \u001b[38;5;28;01mfor\u001b[39;00m overall_ocr_res \u001b[38;5;129;01min\u001b[39;00m overall_ocr_results:\n\u001b[0;32m   1062\u001b[0m     overall_ocr_res[\u001b[38;5;124m\"\u001b[39m\u001b[38;5;124mrec_labels\u001b[39m\u001b[38;5;124m\"\u001b[39m] \u001b[38;5;241m=\u001b[39m [\u001b[38;5;124m\"\u001b[39m\u001b[38;5;124mtext\u001b[39m\u001b[38;5;124m\"\u001b[39m] \u001b[38;5;241m*\u001b[39m \u001b[38;5;28mlen\u001b[39m(\n\u001b[0;32m   1063\u001b[0m         overall_ocr_res[\u001b[38;5;124m\"\u001b[39m\u001b[38;5;124mrec_texts\u001b[39m\u001b[38;5;124m\"\u001b[39m]\n\u001b[0;32m   1064\u001b[0m     )\n",
      "File \u001b[1;32mc:\\Users\\HP\\AppData\\Local\\Programs\\Python\\Python311\\Lib\\site-packages\\paddlex\\inference\\pipelines\\_parallel.py:129\u001b[0m, in \u001b[0;36mAutoParallelSimpleInferencePipeline.predict\u001b[1;34m(self, input, *args, **kwargs)\u001b[0m\n\u001b[0;32m    123\u001b[0m     \u001b[38;5;28;01myield from\u001b[39;00m \u001b[38;5;28mself\u001b[39m\u001b[38;5;241m.\u001b[39m_executor\u001b[38;5;241m.\u001b[39mexecute(\n\u001b[0;32m    124\u001b[0m         \u001b[38;5;28minput\u001b[39m,\n\u001b[0;32m    125\u001b[0m         \u001b[38;5;241m*\u001b[39margs,\n\u001b[0;32m    126\u001b[0m         \u001b[38;5;241m*\u001b[39m\u001b[38;5;241m*\u001b[39mkwargs,\n\u001b[0;32m    127\u001b[0m     )\n\u001b[0;32m    128\u001b[0m \u001b[38;5;28;01melse\u001b[39;00m:\n\u001b[1;32m--> 129\u001b[0m     \u001b[38;5;28;01myield from\u001b[39;00m \u001b[38;5;28mself\u001b[39m\u001b[38;5;241m.\u001b[39m_pipeline\u001b[38;5;241m.\u001b[39mpredict(\n\u001b[0;32m    130\u001b[0m         \u001b[38;5;28minput\u001b[39m,\n\u001b[0;32m    131\u001b[0m         \u001b[38;5;241m*\u001b[39margs,\n\u001b[0;32m    132\u001b[0m         \u001b[38;5;241m*\u001b[39m\u001b[38;5;241m*\u001b[39mkwargs,\n\u001b[0;32m    133\u001b[0m     )\n",
      "File \u001b[1;32mc:\\Users\\HP\\AppData\\Local\\Programs\\Python\\Python311\\Lib\\site-packages\\paddlex\\inference\\pipelines\\ocr\\pipeline.py:350\u001b[0m, in \u001b[0;36m_OCRPipeline.predict\u001b[1;34m(self, input, use_doc_orientation_classify, use_doc_unwarping, use_textline_orientation, text_det_limit_side_len, text_det_limit_type, text_det_max_side_limit, text_det_thresh, text_det_box_thresh, text_det_unclip_ratio, text_rec_score_thresh)\u001b[0m\n\u001b[0;32m    344\u001b[0m     doc_preprocessor_results \u001b[38;5;241m=\u001b[39m [{\u001b[38;5;124m\"\u001b[39m\u001b[38;5;124moutput_img\u001b[39m\u001b[38;5;124m\"\u001b[39m: arr} \u001b[38;5;28;01mfor\u001b[39;00m arr \u001b[38;5;129;01min\u001b[39;00m image_arrays]\n\u001b[0;32m    346\u001b[0m doc_preprocessor_images \u001b[38;5;241m=\u001b[39m [\n\u001b[0;32m    347\u001b[0m     item[\u001b[38;5;124m\"\u001b[39m\u001b[38;5;124moutput_img\u001b[39m\u001b[38;5;124m\"\u001b[39m] \u001b[38;5;28;01mfor\u001b[39;00m item \u001b[38;5;129;01min\u001b[39;00m doc_preprocessor_results\n\u001b[0;32m    348\u001b[0m ]\n\u001b[1;32m--> 350\u001b[0m det_results \u001b[38;5;241m=\u001b[39m \u001b[38;5;28mlist\u001b[39m(\n\u001b[0;32m    351\u001b[0m     \u001b[38;5;28mself\u001b[39m\u001b[38;5;241m.\u001b[39mtext_det_model(doc_preprocessor_images, \u001b[38;5;241m*\u001b[39m\u001b[38;5;241m*\u001b[39mtext_det_params)\n\u001b[0;32m    352\u001b[0m )\n\u001b[0;32m    354\u001b[0m dt_polys_list \u001b[38;5;241m=\u001b[39m [item[\u001b[38;5;124m\"\u001b[39m\u001b[38;5;124mdt_polys\u001b[39m\u001b[38;5;124m\"\u001b[39m] \u001b[38;5;28;01mfor\u001b[39;00m item \u001b[38;5;129;01min\u001b[39;00m det_results]\n\u001b[0;32m    356\u001b[0m dt_polys_list \u001b[38;5;241m=\u001b[39m [\u001b[38;5;28mself\u001b[39m\u001b[38;5;241m.\u001b[39m_sort_boxes(item) \u001b[38;5;28;01mfor\u001b[39;00m item \u001b[38;5;129;01min\u001b[39;00m dt_polys_list]\n",
      "File \u001b[1;32mc:\\Users\\HP\\AppData\\Local\\Programs\\Python\\Python311\\Lib\\site-packages\\paddlex\\inference\\models\\base\\predictor\\base_predictor.py:211\u001b[0m, in \u001b[0;36mBasePredictor.__call__\u001b[1;34m(self, input, batch_size, **kwargs)\u001b[0m\n\u001b[0;32m    209\u001b[0m     \u001b[38;5;28;01myield\u001b[39;00m output[\u001b[38;5;241m0\u001b[39m]\n\u001b[0;32m    210\u001b[0m \u001b[38;5;28;01melse\u001b[39;00m:\n\u001b[1;32m--> 211\u001b[0m     \u001b[38;5;28;01myield from\u001b[39;00m \u001b[38;5;28mself\u001b[39m\u001b[38;5;241m.\u001b[39mapply(\u001b[38;5;28minput\u001b[39m, \u001b[38;5;241m*\u001b[39m\u001b[38;5;241m*\u001b[39mkwargs)\n",
      "File \u001b[1;32mc:\\Users\\HP\\AppData\\Local\\Programs\\Python\\Python311\\Lib\\site-packages\\paddlex\\inference\\models\\base\\predictor\\base_predictor.py:267\u001b[0m, in \u001b[0;36mBasePredictor.apply\u001b[1;34m(self, input, **kwargs)\u001b[0m\n\u001b[0;32m    265\u001b[0m     batches \u001b[38;5;241m=\u001b[39m \u001b[38;5;28mself\u001b[39m\u001b[38;5;241m.\u001b[39mbatch_sampler(\u001b[38;5;28minput\u001b[39m)\n\u001b[0;32m    266\u001b[0m \u001b[38;5;28;01mfor\u001b[39;00m batch_data \u001b[38;5;129;01min\u001b[39;00m batches:\n\u001b[1;32m--> 267\u001b[0m     prediction \u001b[38;5;241m=\u001b[39m \u001b[38;5;28;43mself\u001b[39;49m\u001b[38;5;241;43m.\u001b[39;49m\u001b[43mprocess\u001b[49m\u001b[43m(\u001b[49m\u001b[43mbatch_data\u001b[49m\u001b[43m,\u001b[49m\u001b[43m \u001b[49m\u001b[38;5;241;43m*\u001b[39;49m\u001b[38;5;241;43m*\u001b[39;49m\u001b[43mkwargs\u001b[49m\u001b[43m)\u001b[49m\n\u001b[0;32m    268\u001b[0m     prediction \u001b[38;5;241m=\u001b[39m PredictionWrap(prediction, \u001b[38;5;28mlen\u001b[39m(batch_data))\n\u001b[0;32m    269\u001b[0m     \u001b[38;5;28;01mfor\u001b[39;00m idx \u001b[38;5;129;01min\u001b[39;00m \u001b[38;5;28mrange\u001b[39m(\u001b[38;5;28mlen\u001b[39m(batch_data)):\n",
      "File \u001b[1;32mc:\\Users\\HP\\AppData\\Local\\Programs\\Python\\Python311\\Lib\\site-packages\\paddlex\\inference\\models\\text_detection\\predictor.py:105\u001b[0m, in \u001b[0;36mTextDetPredictor.process\u001b[1;34m(self, batch_data, limit_side_len, limit_type, thresh, box_thresh, unclip_ratio, max_side_limit)\u001b[0m\n\u001b[0;32m    103\u001b[0m batch_imgs \u001b[38;5;241m=\u001b[39m \u001b[38;5;28mself\u001b[39m\u001b[38;5;241m.\u001b[39mpre_tfs[\u001b[38;5;124m\"\u001b[39m\u001b[38;5;124mToCHW\u001b[39m\u001b[38;5;124m\"\u001b[39m](imgs\u001b[38;5;241m=\u001b[39mbatch_imgs)\n\u001b[0;32m    104\u001b[0m x \u001b[38;5;241m=\u001b[39m \u001b[38;5;28mself\u001b[39m\u001b[38;5;241m.\u001b[39mpre_tfs[\u001b[38;5;124m\"\u001b[39m\u001b[38;5;124mToBatch\u001b[39m\u001b[38;5;124m\"\u001b[39m](imgs\u001b[38;5;241m=\u001b[39mbatch_imgs)\n\u001b[1;32m--> 105\u001b[0m batch_preds \u001b[38;5;241m=\u001b[39m \u001b[38;5;28;43mself\u001b[39;49m\u001b[38;5;241;43m.\u001b[39;49m\u001b[43minfer\u001b[49m\u001b[43m(\u001b[49m\u001b[43mx\u001b[49m\u001b[38;5;241;43m=\u001b[39;49m\u001b[43mx\u001b[49m\u001b[43m)\u001b[49m\n\u001b[0;32m    106\u001b[0m polys, scores \u001b[38;5;241m=\u001b[39m \u001b[38;5;28mself\u001b[39m\u001b[38;5;241m.\u001b[39mpost_op(\n\u001b[0;32m    107\u001b[0m     batch_preds,\n\u001b[0;32m    108\u001b[0m     batch_shapes,\n\u001b[1;32m   (...)\u001b[0m\n\u001b[0;32m    111\u001b[0m     unclip_ratio\u001b[38;5;241m=\u001b[39munclip_ratio \u001b[38;5;129;01mor\u001b[39;00m \u001b[38;5;28mself\u001b[39m\u001b[38;5;241m.\u001b[39munclip_ratio,\n\u001b[0;32m    112\u001b[0m )\n\u001b[0;32m    113\u001b[0m \u001b[38;5;28;01mreturn\u001b[39;00m {\n\u001b[0;32m    114\u001b[0m     \u001b[38;5;124m\"\u001b[39m\u001b[38;5;124minput_path\u001b[39m\u001b[38;5;124m\"\u001b[39m: batch_data\u001b[38;5;241m.\u001b[39minput_paths,\n\u001b[0;32m    115\u001b[0m     \u001b[38;5;124m\"\u001b[39m\u001b[38;5;124mpage_index\u001b[39m\u001b[38;5;124m\"\u001b[39m: batch_data\u001b[38;5;241m.\u001b[39mpage_indexes,\n\u001b[1;32m   (...)\u001b[0m\n\u001b[0;32m    118\u001b[0m     \u001b[38;5;124m\"\u001b[39m\u001b[38;5;124mdt_scores\u001b[39m\u001b[38;5;124m\"\u001b[39m: scores,\n\u001b[0;32m    119\u001b[0m }\n",
      "File \u001b[1;32mc:\\Users\\HP\\AppData\\Local\\Programs\\Python\\Python311\\Lib\\site-packages\\paddlex\\inference\\models\\common\\static_infer.py:287\u001b[0m, in \u001b[0;36mPaddleInfer.__call__\u001b[1;34m(self, x)\u001b[0m\n\u001b[0;32m    285\u001b[0m x \u001b[38;5;241m=\u001b[39m _sort_inputs(x, names)\n\u001b[0;32m    286\u001b[0m x \u001b[38;5;241m=\u001b[39m \u001b[38;5;28mlist\u001b[39m(\u001b[38;5;28mmap\u001b[39m(np\u001b[38;5;241m.\u001b[39mascontiguousarray, x))\n\u001b[1;32m--> 287\u001b[0m pred \u001b[38;5;241m=\u001b[39m \u001b[38;5;28;43mself\u001b[39;49m\u001b[38;5;241;43m.\u001b[39;49m\u001b[43minfer\u001b[49m\u001b[43m(\u001b[49m\u001b[43mx\u001b[49m\u001b[43m)\u001b[49m\n\u001b[0;32m    288\u001b[0m \u001b[38;5;28;01mreturn\u001b[39;00m pred\n",
      "File \u001b[1;32mc:\\Users\\HP\\AppData\\Local\\Programs\\Python\\Python311\\Lib\\site-packages\\paddlex\\inference\\models\\common\\static_infer.py:252\u001b[0m, in \u001b[0;36mPaddleInferChainLegacy.__call__\u001b[1;34m(self, x)\u001b[0m\n\u001b[0;32m    250\u001b[0m     input_handle\u001b[38;5;241m.\u001b[39mreshape(input_\u001b[38;5;241m.\u001b[39mshape)\n\u001b[0;32m    251\u001b[0m     input_handle\u001b[38;5;241m.\u001b[39mcopy_from_cpu(input_)\n\u001b[1;32m--> 252\u001b[0m \u001b[38;5;28;43mself\u001b[39;49m\u001b[38;5;241;43m.\u001b[39;49m\u001b[43mpredictor\u001b[49m\u001b[38;5;241;43m.\u001b[39;49m\u001b[43mrun\u001b[49m\u001b[43m(\u001b[49m\u001b[43m)\u001b[49m\n\u001b[0;32m    253\u001b[0m outputs \u001b[38;5;241m=\u001b[39m [o\u001b[38;5;241m.\u001b[39mcopy_to_cpu() \u001b[38;5;28;01mfor\u001b[39;00m o \u001b[38;5;129;01min\u001b[39;00m \u001b[38;5;28mself\u001b[39m\u001b[38;5;241m.\u001b[39moutput_handles]\n\u001b[0;32m    254\u001b[0m \u001b[38;5;28;01mreturn\u001b[39;00m outputs\n",
      "\u001b[1;31mRuntimeError\u001b[0m: Unknown exception"
     ]
    }
   ],
   "source": [
    "from pathlib import Path\n",
    "from paddleocr import PPStructureV3\n",
    "\n",
    "pipeline = PPStructureV3(\n",
    "    use_doc_orientation_classify=False,\n",
    "    use_doc_unwarping=False\n",
    ")\n",
    "\n",
    "# For Image\n",
    "output = pipeline.predict(\n",
    "    input=\"C:\\\\Users\\\\HP\\\\kreativetimebox-task\\\\CUSTOM LLM\\\\paddleOcr\\\\pdf_images\\\\page_1.jpg\",\n",
    ")\n",
    "\n",
    "# Visualize the results and save the JSON results\n",
    "for res in output:\n",
    "    res.print() \n",
    "    res.save_to_json(save_path=\"output\") \n",
    "    res.save_to_markdown(save_path=\"output\")           "
   ]
  },
  {
   "cell_type": "code",
   "execution_count": 13,
   "id": "96be17c6",
   "metadata": {},
   "outputs": [],
   "source": [
    "from docx import Document\n",
    "import csv\n",
    "import os\n",
    "\n",
    "output_dir = './output/'\n",
    "docx_files = [f for f in os.listdir(output_dir) if f.endswith('.docx')]\n",
    "\n",
    "for docx_file in docx_files:\n",
    "    doc_path = os.path.join(output_dir, docx_file)\n",
    "    doc = Document(doc_path)\n",
    "    \n",
    "    for idx, table in enumerate(doc.tables):\n",
    "        csv_file = os.path.join(output_dir, f\"{docx_file.replace('.docx', '')}_table_{idx+1}.csv\")\n",
    "        with open(csv_file, 'w', newline='', encoding='utf-8') as f:\n",
    "            writer = csv.writer(f)\n",
    "            for row in table.rows:\n",
    "                writer.writerow([cell.text.strip() for cell in row.cells])\n",
    "        print(f\"Saved table to {csv_file}\")\n"
   ]
  }
 ],
 "metadata": {
  "kernelspec": {
   "display_name": "Python 3",
   "language": "python",
   "name": "python3"
  },
  "language_info": {
   "codemirror_mode": {
    "name": "ipython",
    "version": 3
   },
   "file_extension": ".py",
   "mimetype": "text/x-python",
   "name": "python",
   "nbconvert_exporter": "python",
   "pygments_lexer": "ipython3",
   "version": "3.11.0"
  }
 },
 "nbformat": 4,
 "nbformat_minor": 5
}
