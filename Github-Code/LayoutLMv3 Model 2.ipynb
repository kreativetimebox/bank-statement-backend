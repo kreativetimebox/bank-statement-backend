{
 "cells": [
  {
   "cell_type": "code",
   "execution_count": 1,
   "id": "b9f0753b",
   "metadata": {},
   "outputs": [
    {
     "name": "stdout",
     "output_type": "stream",
     "text": [
      "Requirement already satisfied: pdf2image in j:\\anaconda\\lib\\site-packages (1.17.0)\n",
      "Requirement already satisfied: paddleocr in j:\\anaconda\\lib\\site-packages (3.0.3)\n",
      "Requirement already satisfied: layoutparser in j:\\anaconda\\lib\\site-packages (0.3.4)\n",
      "Requirement already satisfied: transformers in j:\\anaconda\\lib\\site-packages (4.52.4)\n",
      "Requirement already satisfied: torch in j:\\anaconda\\lib\\site-packages (2.7.0)\n",
      "Requirement already satisfied: torchvision in j:\\anaconda\\lib\\site-packages (0.22.0)\n",
      "Requirement already satisfied: pillow in j:\\anaconda\\lib\\site-packages (from pdf2image) (10.4.0)\n",
      "Requirement already satisfied: paddlex>=3.0.3 in j:\\anaconda\\lib\\site-packages (from paddlex[ie,multimodal,ocr]>=3.0.3->paddleocr) (3.0.3)\n",
      "Requirement already satisfied: PyYAML>=6 in j:\\anaconda\\lib\\site-packages (from paddleocr) (6.0.2)\n",
      "Requirement already satisfied: typing-extensions>=4.12 in j:\\anaconda\\lib\\site-packages (from paddleocr) (4.14.0)\n",
      "Requirement already satisfied: numpy in j:\\anaconda\\lib\\site-packages (from layoutparser) (1.26.4)\n",
      "Requirement already satisfied: opencv-python in j:\\anaconda\\lib\\site-packages (from layoutparser) (4.11.0.86)\n",
      "Requirement already satisfied: scipy in j:\\anaconda\\lib\\site-packages (from layoutparser) (1.13.1)\n",
      "Requirement already satisfied: pandas in j:\\anaconda\\lib\\site-packages (from layoutparser) (2.2.2)\n",
      "Requirement already satisfied: iopath in j:\\anaconda\\lib\\site-packages (from layoutparser) (0.1.10)\n",
      "Requirement already satisfied: pdfplumber in j:\\anaconda\\lib\\site-packages (from layoutparser) (0.11.7)\n",
      "Requirement already satisfied: filelock in j:\\anaconda\\lib\\site-packages (from transformers) (3.13.1)\n",
      "Requirement already satisfied: huggingface-hub<1.0,>=0.30.0 in j:\\anaconda\\lib\\site-packages (from transformers) (0.32.4)\n",
      "Requirement already satisfied: packaging>=20.0 in j:\\anaconda\\lib\\site-packages (from transformers) (24.1)\n",
      "Requirement already satisfied: regex!=2019.12.17 in j:\\anaconda\\lib\\site-packages (from transformers) (2024.9.11)\n",
      "Requirement already satisfied: requests in j:\\anaconda\\lib\\site-packages (from transformers) (2.32.3)\n",
      "Requirement already satisfied: tokenizers<0.22,>=0.21 in j:\\anaconda\\lib\\site-packages (from transformers) (0.21.1)\n",
      "Requirement already satisfied: safetensors>=0.4.3 in j:\\anaconda\\lib\\site-packages (from transformers) (0.5.3)\n",
      "Requirement already satisfied: tqdm>=4.27 in j:\\anaconda\\lib\\site-packages (from transformers) (4.66.5)\n",
      "Requirement already satisfied: sympy>=1.13.3 in j:\\anaconda\\lib\\site-packages (from torch) (1.14.0)\n",
      "Requirement already satisfied: networkx in j:\\anaconda\\lib\\site-packages (from torch) (3.3)\n",
      "Requirement already satisfied: jinja2 in j:\\anaconda\\lib\\site-packages (from torch) (3.1.4)\n",
      "Requirement already satisfied: fsspec in j:\\anaconda\\lib\\site-packages (from torch) (2024.6.1)\n",
      "Requirement already satisfied: setuptools in j:\\anaconda\\lib\\site-packages (from torch) (75.1.0)\n",
      "Requirement already satisfied: chardet in j:\\anaconda\\lib\\site-packages (from paddlex>=3.0.3->paddlex[ie,multimodal,ocr]>=3.0.3->paddleocr) (4.0.0)\n",
      "Requirement already satisfied: colorlog in j:\\anaconda\\lib\\site-packages (from paddlex>=3.0.3->paddlex[ie,multimodal,ocr]>=3.0.3->paddleocr) (6.9.0)\n",
      "Requirement already satisfied: prettytable in j:\\anaconda\\lib\\site-packages (from paddlex>=3.0.3->paddlex[ie,multimodal,ocr]>=3.0.3->paddleocr) (3.16.0)\n",
      "Requirement already satisfied: py-cpuinfo in j:\\anaconda\\lib\\site-packages (from paddlex>=3.0.3->paddlex[ie,multimodal,ocr]>=3.0.3->paddleocr) (9.0.0)\n",
      "Requirement already satisfied: pydantic>=2 in j:\\anaconda\\lib\\site-packages (from paddlex>=3.0.3->paddlex[ie,multimodal,ocr]>=3.0.3->paddleocr) (2.8.2)\n",
      "Requirement already satisfied: ruamel.yaml in j:\\anaconda\\lib\\site-packages (from paddlex>=3.0.3->paddlex[ie,multimodal,ocr]>=3.0.3->paddleocr) (0.18.6)\n",
      "Requirement already satisfied: ujson in j:\\anaconda\\lib\\site-packages (from paddlex>=3.0.3->paddlex[ie,multimodal,ocr]>=3.0.3->paddleocr) (5.10.0)\n",
      "Requirement already satisfied: ftfy in j:\\anaconda\\lib\\site-packages (from paddlex[ie,multimodal,ocr]>=3.0.3->paddleocr) (6.3.1)\n",
      "Requirement already satisfied: imagesize in j:\\anaconda\\lib\\site-packages (from paddlex[ie,multimodal,ocr]>=3.0.3->paddleocr) (1.4.1)\n",
      "Requirement already satisfied: langchain>=0.2 in j:\\anaconda\\lib\\site-packages (from paddlex[ie,multimodal,ocr]>=3.0.3->paddleocr) (0.3.26)\n",
      "Requirement already satisfied: langchain-community>=0.2 in j:\\anaconda\\lib\\site-packages (from paddlex[ie,multimodal,ocr]>=3.0.3->paddleocr) (0.3.26)\n",
      "Requirement already satisfied: langchain-core in j:\\anaconda\\lib\\site-packages (from paddlex[ie,multimodal,ocr]>=3.0.3->paddleocr) (0.3.66)\n",
      "Requirement already satisfied: langchain-openai>=0.1 in j:\\anaconda\\lib\\site-packages (from paddlex[ie,multimodal,ocr]>=3.0.3->paddleocr) (0.3.26)\n",
      "Requirement already satisfied: lxml in j:\\anaconda\\lib\\site-packages (from paddlex[ie,multimodal,ocr]>=3.0.3->paddleocr) (5.2.1)\n",
      "Requirement already satisfied: openai>=1.63 in j:\\anaconda\\lib\\site-packages (from paddlex[ie,multimodal,ocr]>=3.0.3->paddleocr) (1.92.2)\n",
      "Requirement already satisfied: opencv-contrib-python==4.10.0.84 in j:\\anaconda\\lib\\site-packages (from paddlex[ie,multimodal,ocr]>=3.0.3->paddleocr) (4.10.0.84)\n",
      "Requirement already satisfied: openpyxl in j:\\anaconda\\lib\\site-packages (from paddlex[ie,multimodal,ocr]>=3.0.3->paddleocr) (3.1.5)\n",
      "Requirement already satisfied: premailer in j:\\anaconda\\lib\\site-packages (from paddlex[ie,multimodal,ocr]>=3.0.3->paddleocr) (3.10.0)\n",
      "Requirement already satisfied: pyclipper in j:\\anaconda\\lib\\site-packages (from paddlex[ie,multimodal,ocr]>=3.0.3->paddleocr) (1.3.0.post6)\n",
      "Requirement already satisfied: pypdfium2>=4 in j:\\anaconda\\lib\\site-packages (from paddlex[ie,multimodal,ocr]>=3.0.3->paddleocr) (4.30.1)\n",
      "Requirement already satisfied: scikit-learn in j:\\anaconda\\lib\\site-packages (from paddlex[ie,multimodal,ocr]>=3.0.3->paddleocr) (1.5.1)\n",
      "Requirement already satisfied: shapely in j:\\anaconda\\lib\\site-packages (from paddlex[ie,multimodal,ocr]>=3.0.3->paddleocr) (2.1.1)\n",
      "Requirement already satisfied: einops in j:\\anaconda\\lib\\site-packages (from paddlex[ie,multimodal,ocr]>=3.0.3->paddleocr) (0.8.1)\n",
      "Requirement already satisfied: GPUtil>=1.4 in j:\\anaconda\\lib\\site-packages (from paddlex[ie,multimodal,ocr]>=3.0.3->paddleocr) (1.4.0)\n",
      "Requirement already satisfied: tiktoken in j:\\anaconda\\lib\\site-packages (from paddlex[ie,multimodal,ocr]>=3.0.3->paddleocr) (0.9.0)\n",
      "Requirement already satisfied: python-dateutil>=2.8.2 in j:\\anaconda\\lib\\site-packages (from pandas->layoutparser) (2.9.0.post0)\n",
      "Requirement already satisfied: pytz>=2020.1 in j:\\anaconda\\lib\\site-packages (from pandas->layoutparser) (2024.1)\n",
      "Requirement already satisfied: tzdata>=2022.7 in j:\\anaconda\\lib\\site-packages (from pandas->layoutparser) (2023.3)\n",
      "Requirement already satisfied: mpmath<1.4,>=1.1.0 in j:\\anaconda\\lib\\site-packages (from sympy>=1.13.3->torch) (1.3.0)\n",
      "Requirement already satisfied: colorama in j:\\anaconda\\lib\\site-packages (from tqdm>=4.27->transformers) (0.4.6)\n",
      "Requirement already satisfied: portalocker in j:\\anaconda\\lib\\site-packages (from iopath->layoutparser) (3.2.0)\n",
      "Requirement already satisfied: MarkupSafe>=2.0 in j:\\anaconda\\lib\\site-packages (from jinja2->torch) (2.1.3)\n",
      "Requirement already satisfied: pdfminer.six==20250506 in j:\\anaconda\\lib\\site-packages (from pdfplumber->layoutparser) (20250506)\n",
      "Requirement already satisfied: charset-normalizer>=2.0.0 in j:\\anaconda\\lib\\site-packages (from pdfminer.six==20250506->pdfplumber->layoutparser) (3.3.2)\n",
      "Requirement already satisfied: cryptography>=36.0.0 in j:\\anaconda\\lib\\site-packages (from pdfminer.six==20250506->pdfplumber->layoutparser) (43.0.0)\n",
      "Requirement already satisfied: idna<4,>=2.5 in j:\\anaconda\\lib\\site-packages (from requests->transformers) (3.7)\n",
      "Requirement already satisfied: urllib3<3,>=1.21.1 in j:\\anaconda\\lib\\site-packages (from requests->transformers) (2.2.3)\n",
      "Requirement already satisfied: certifi>=2017.4.17 in j:\\anaconda\\lib\\site-packages (from requests->transformers) (2025.4.26)\n",
      "Requirement already satisfied: langchain-text-splitters<1.0.0,>=0.3.8 in j:\\anaconda\\lib\\site-packages (from langchain>=0.2->paddlex[ie,multimodal,ocr]>=3.0.3->paddleocr) (0.3.8)\n",
      "Requirement already satisfied: langsmith>=0.1.17 in j:\\anaconda\\lib\\site-packages (from langchain>=0.2->paddlex[ie,multimodal,ocr]>=3.0.3->paddleocr) (0.4.3)\n",
      "Requirement already satisfied: SQLAlchemy<3,>=1.4 in j:\\anaconda\\lib\\site-packages (from langchain>=0.2->paddlex[ie,multimodal,ocr]>=3.0.3->paddleocr) (2.0.34)\n",
      "Requirement already satisfied: aiohttp<4.0.0,>=3.8.3 in j:\\anaconda\\lib\\site-packages (from langchain-community>=0.2->paddlex[ie,multimodal,ocr]>=3.0.3->paddleocr) (3.10.5)\n",
      "Requirement already satisfied: tenacity!=8.4.0,<10,>=8.1.0 in j:\\anaconda\\lib\\site-packages (from langchain-community>=0.2->paddlex[ie,multimodal,ocr]>=3.0.3->paddleocr) (8.2.3)\n",
      "Requirement already satisfied: dataclasses-json<0.7,>=0.5.7 in j:\\anaconda\\lib\\site-packages (from langchain-community>=0.2->paddlex[ie,multimodal,ocr]>=3.0.3->paddleocr) (0.6.7)\n",
      "Requirement already satisfied: pydantic-settings<3.0.0,>=2.4.0 in j:\\anaconda\\lib\\site-packages (from langchain-community>=0.2->paddlex[ie,multimodal,ocr]>=3.0.3->paddleocr) (2.6.1)\n",
      "Requirement already satisfied: httpx-sse<1.0.0,>=0.4.0 in j:\\anaconda\\lib\\site-packages (from langchain-community>=0.2->paddlex[ie,multimodal,ocr]>=3.0.3->paddleocr) (0.4.1)\n",
      "Requirement already satisfied: jsonpatch<2.0,>=1.33 in j:\\anaconda\\lib\\site-packages (from langchain-core->paddlex[ie,multimodal,ocr]>=3.0.3->paddleocr) (1.33)\n",
      "Requirement already satisfied: anyio<5,>=3.5.0 in j:\\anaconda\\lib\\site-packages (from openai>=1.63->paddlex[ie,multimodal,ocr]>=3.0.3->paddleocr) (4.2.0)\n",
      "Requirement already satisfied: distro<2,>=1.7.0 in j:\\anaconda\\lib\\site-packages (from openai>=1.63->paddlex[ie,multimodal,ocr]>=3.0.3->paddleocr) (1.9.0)\n",
      "Requirement already satisfied: httpx<1,>=0.23.0 in j:\\anaconda\\lib\\site-packages (from openai>=1.63->paddlex[ie,multimodal,ocr]>=3.0.3->paddleocr) (0.27.0)\n",
      "Requirement already satisfied: jiter<1,>=0.4.0 in j:\\anaconda\\lib\\site-packages (from openai>=1.63->paddlex[ie,multimodal,ocr]>=3.0.3->paddleocr) (0.10.0)\n",
      "Requirement already satisfied: sniffio in j:\\anaconda\\lib\\site-packages (from openai>=1.63->paddlex[ie,multimodal,ocr]>=3.0.3->paddleocr) (1.3.0)\n",
      "Requirement already satisfied: annotated-types>=0.4.0 in j:\\anaconda\\lib\\site-packages (from pydantic>=2->paddlex>=3.0.3->paddlex[ie,multimodal,ocr]>=3.0.3->paddleocr) (0.6.0)\n",
      "Requirement already satisfied: pydantic-core==2.20.1 in j:\\anaconda\\lib\\site-packages (from pydantic>=2->paddlex>=3.0.3->paddlex[ie,multimodal,ocr]>=3.0.3->paddleocr) (2.20.1)\n",
      "Requirement already satisfied: six>=1.5 in j:\\anaconda\\lib\\site-packages (from python-dateutil>=2.8.2->pandas->layoutparser) (1.16.0)\n",
      "Requirement already satisfied: wcwidth in j:\\anaconda\\lib\\site-packages (from ftfy->paddlex[ie,multimodal,ocr]>=3.0.3->paddleocr) (0.2.5)\n",
      "Requirement already satisfied: et-xmlfile in j:\\anaconda\\lib\\site-packages (from openpyxl->paddlex[ie,multimodal,ocr]>=3.0.3->paddleocr) (1.1.0)\n",
      "Requirement already satisfied: pywin32>=226 in j:\\anaconda\\lib\\site-packages (from portalocker->iopath->layoutparser) (305.1)\n",
      "Requirement already satisfied: cssselect in j:\\anaconda\\lib\\site-packages (from premailer->paddlex[ie,multimodal,ocr]>=3.0.3->paddleocr) (1.2.0)\n",
      "Requirement already satisfied: cssutils in j:\\anaconda\\lib\\site-packages (from premailer->paddlex[ie,multimodal,ocr]>=3.0.3->paddleocr) (2.11.1)\n",
      "Requirement already satisfied: cachetools in j:\\anaconda\\lib\\site-packages (from premailer->paddlex[ie,multimodal,ocr]>=3.0.3->paddleocr) (5.3.3)\n",
      "Requirement already satisfied: ruamel.yaml.clib>=0.2.7 in j:\\anaconda\\lib\\site-packages (from ruamel.yaml->paddlex>=3.0.3->paddlex[ie,multimodal,ocr]>=3.0.3->paddleocr) (0.2.8)\n",
      "Requirement already satisfied: joblib>=1.2.0 in j:\\anaconda\\lib\\site-packages (from scikit-learn->paddlex[ie,multimodal,ocr]>=3.0.3->paddleocr) (1.4.2)\n",
      "Requirement already satisfied: threadpoolctl>=3.1.0 in j:\\anaconda\\lib\\site-packages (from scikit-learn->paddlex[ie,multimodal,ocr]>=3.0.3->paddleocr) (3.5.0)\n",
      "Requirement already satisfied: aiohappyeyeballs>=2.3.0 in j:\\anaconda\\lib\\site-packages (from aiohttp<4.0.0,>=3.8.3->langchain-community>=0.2->paddlex[ie,multimodal,ocr]>=3.0.3->paddleocr) (2.4.0)\n",
      "Requirement already satisfied: aiosignal>=1.1.2 in j:\\anaconda\\lib\\site-packages (from aiohttp<4.0.0,>=3.8.3->langchain-community>=0.2->paddlex[ie,multimodal,ocr]>=3.0.3->paddleocr) (1.2.0)\n",
      "Requirement already satisfied: attrs>=17.3.0 in j:\\anaconda\\lib\\site-packages (from aiohttp<4.0.0,>=3.8.3->langchain-community>=0.2->paddlex[ie,multimodal,ocr]>=3.0.3->paddleocr) (23.1.0)\n",
      "Requirement already satisfied: frozenlist>=1.1.1 in j:\\anaconda\\lib\\site-packages (from aiohttp<4.0.0,>=3.8.3->langchain-community>=0.2->paddlex[ie,multimodal,ocr]>=3.0.3->paddleocr) (1.4.0)\n",
      "Requirement already satisfied: multidict<7.0,>=4.5 in j:\\anaconda\\lib\\site-packages (from aiohttp<4.0.0,>=3.8.3->langchain-community>=0.2->paddlex[ie,multimodal,ocr]>=3.0.3->paddleocr) (6.0.4)\n",
      "Requirement already satisfied: yarl<2.0,>=1.0 in j:\\anaconda\\lib\\site-packages (from aiohttp<4.0.0,>=3.8.3->langchain-community>=0.2->paddlex[ie,multimodal,ocr]>=3.0.3->paddleocr) (1.11.0)\n",
      "Requirement already satisfied: cffi>=1.12 in j:\\anaconda\\lib\\site-packages (from cryptography>=36.0.0->pdfminer.six==20250506->pdfplumber->layoutparser) (1.17.1)\n",
      "Requirement already satisfied: marshmallow<4.0.0,>=3.18.0 in j:\\anaconda\\lib\\site-packages (from dataclasses-json<0.7,>=0.5.7->langchain-community>=0.2->paddlex[ie,multimodal,ocr]>=3.0.3->paddleocr) (3.26.1)\n",
      "Requirement already satisfied: typing-inspect<1,>=0.4.0 in j:\\anaconda\\lib\\site-packages (from dataclasses-json<0.7,>=0.5.7->langchain-community>=0.2->paddlex[ie,multimodal,ocr]>=3.0.3->paddleocr) (0.9.0)\n",
      "Requirement already satisfied: httpcore==1.* in j:\\anaconda\\lib\\site-packages (from httpx<1,>=0.23.0->openai>=1.63->paddlex[ie,multimodal,ocr]>=3.0.3->paddleocr) (1.0.2)\n",
      "Requirement already satisfied: h11<0.15,>=0.13 in j:\\anaconda\\lib\\site-packages (from httpcore==1.*->httpx<1,>=0.23.0->openai>=1.63->paddlex[ie,multimodal,ocr]>=3.0.3->paddleocr) (0.14.0)\n",
      "Requirement already satisfied: jsonpointer>=1.9 in j:\\anaconda\\lib\\site-packages (from jsonpatch<2.0,>=1.33->langchain-core->paddlex[ie,multimodal,ocr]>=3.0.3->paddleocr) (2.1)\n",
      "Requirement already satisfied: orjson<4.0.0,>=3.9.14 in j:\\anaconda\\lib\\site-packages (from langsmith>=0.1.17->langchain>=0.2->paddlex[ie,multimodal,ocr]>=3.0.3->paddleocr) (3.10.18)\n",
      "Requirement already satisfied: requests-toolbelt<2.0.0,>=1.0.0 in j:\\anaconda\\lib\\site-packages (from langsmith>=0.1.17->langchain>=0.2->paddlex[ie,multimodal,ocr]>=3.0.3->paddleocr) (1.0.0)\n",
      "Requirement already satisfied: zstandard<0.24.0,>=0.23.0 in j:\\anaconda\\lib\\site-packages (from langsmith>=0.1.17->langchain>=0.2->paddlex[ie,multimodal,ocr]>=3.0.3->paddleocr) (0.23.0)\n",
      "Requirement already satisfied: python-dotenv>=0.21.0 in j:\\anaconda\\lib\\site-packages (from pydantic-settings<3.0.0,>=2.4.0->langchain-community>=0.2->paddlex[ie,multimodal,ocr]>=3.0.3->paddleocr) (0.21.0)\n",
      "Requirement already satisfied: greenlet!=0.4.17 in j:\\anaconda\\lib\\site-packages (from SQLAlchemy<3,>=1.4->langchain>=0.2->paddlex[ie,multimodal,ocr]>=3.0.3->paddleocr) (3.0.1)\n",
      "Requirement already satisfied: more-itertools in j:\\anaconda\\lib\\site-packages (from cssutils->premailer->paddlex[ie,multimodal,ocr]>=3.0.3->paddleocr) (10.3.0)\n",
      "Requirement already satisfied: pycparser in j:\\anaconda\\lib\\site-packages (from cffi>=1.12->cryptography>=36.0.0->pdfminer.six==20250506->pdfplumber->layoutparser) (2.21)\n",
      "Requirement already satisfied: mypy-extensions>=0.3.0 in j:\\anaconda\\lib\\site-packages (from typing-inspect<1,>=0.4.0->dataclasses-json<0.7,>=0.5.7->langchain-community>=0.2->paddlex[ie,multimodal,ocr]>=3.0.3->paddleocr) (1.0.0)\n"
     ]
    },
    {
     "name": "stderr",
     "output_type": "stream",
     "text": [
      "'apt' is not recognized as an internal or external command,\n",
      "operable program or batch file.\n"
     ]
    }
   ],
   "source": [
    "!pip install pdf2image paddleocr layoutparser transformers torch torchvision\n",
    "!apt install poppler-utils  # or install poppler on Windows (add to PATH)"
   ]
  },
  {
   "cell_type": "code",
   "execution_count": 2,
   "id": "5ebe5f90",
   "metadata": {},
   "outputs": [
    {
     "name": "stdout",
     "output_type": "stream",
     "text": [
      "Looking in links: https://www.paddlepaddle.org.cn/whl/linux/mkl/avx/stable.html\n",
      "Note: you may need to restart the kernel to use updated packages.\n"
     ]
    },
    {
     "name": "stderr",
     "output_type": "stream",
     "text": [
      "ERROR: Could not find a version that satisfies the requirement paddlepaddle-gpu==2.5.0.post117 (from versions: 2.6.0, 2.6.1, 2.6.2)\n",
      "ERROR: No matching distribution found for paddlepaddle-gpu==2.5.0.post117\n"
     ]
    }
   ],
   "source": [
    "pip install paddlepaddle-gpu==2.5.0.post117 -f https://www.paddlepaddle.org.cn/whl/linux/mkl/avx/stable.html\n"
   ]
  },
  {
   "cell_type": "code",
   "execution_count": 3,
   "id": "b17e6f2b",
   "metadata": {},
   "outputs": [
    {
     "name": "stdout",
     "output_type": "stream",
     "text": [
      "Note: you may need to restart the kernel to use updated packages.\n"
     ]
    },
    {
     "name": "stderr",
     "output_type": "stream",
     "text": [
      "ERROR: Could not find a version that satisfies the requirement paddlepaddle==2.5.0 (from versions: 2.6.0, 2.6.1, 2.6.2, 3.0.0b0, 3.0.0b1, 3.0.0b2, 3.0.0rc0, 3.0.0rc1, 3.0.0)\n",
      "ERROR: No matching distribution found for paddlepaddle==2.5.0\n"
     ]
    }
   ],
   "source": [
    "pip install paddlepaddle==2.5.0 -i https://pypi.org/simple\n"
   ]
  },
  {
   "cell_type": "code",
   "execution_count": 4,
   "id": "0213c51e",
   "metadata": {},
   "outputs": [
    {
     "ename": "ModuleNotFoundError",
     "evalue": "No module named 'paddle'",
     "output_type": "error",
     "traceback": [
      "\u001b[1;31m---------------------------------------------------------------------------\u001b[0m",
      "\u001b[1;31mModuleNotFoundError\u001b[0m                       Traceback (most recent call last)",
      "Cell \u001b[1;32mIn[4], line 1\u001b[0m\n\u001b[1;32m----> 1\u001b[0m \u001b[38;5;28;01mimport\u001b[39;00m \u001b[38;5;21;01mpaddle\u001b[39;00m\n\u001b[0;32m      2\u001b[0m \u001b[38;5;28mprint\u001b[39m(paddle\u001b[38;5;241m.\u001b[39m__version__)\n\u001b[0;32m      3\u001b[0m \u001b[38;5;28mprint\u001b[39m(\u001b[38;5;124m\"\u001b[39m\u001b[38;5;124mCUDA Available:\u001b[39m\u001b[38;5;124m\"\u001b[39m, paddle\u001b[38;5;241m.\u001b[39mis_compiled_with_cuda())\n",
      "\u001b[1;31mModuleNotFoundError\u001b[0m: No module named 'paddle'"
     ]
    }
   ],
   "source": [
    "import paddle\n",
    "print(paddle.__version__)\n",
    "print(\"CUDA Available:\", paddle.is_compiled_with_cuda())\n",
    "\n"
   ]
  },
  {
   "cell_type": "code",
   "execution_count": null,
   "id": "07e5172d",
   "metadata": {},
   "outputs": [
    {
     "ename": "ModuleNotFoundError",
     "evalue": "No module named 'paddle'",
     "output_type": "error",
     "traceback": [
      "\u001b[1;31m---------------------------------------------------------------------------\u001b[0m",
      "\u001b[1;31mModuleNotFoundError\u001b[0m                       Traceback (most recent call last)",
      "Cell \u001b[1;32mIn[7], line 9\u001b[0m\n\u001b[0;32m      6\u001b[0m \u001b[38;5;28;01mfrom\u001b[39;00m \u001b[38;5;21;01mtransformers\u001b[39;00m \u001b[38;5;28;01mimport\u001b[39;00m LayoutLMv3Processor, LayoutLMv3ForTokenClassification\n\u001b[0;32m      7\u001b[0m \u001b[38;5;28;01mimport\u001b[39;00m \u001b[38;5;21;01mmatplotlib\u001b[39;00m\u001b[38;5;21;01m.\u001b[39;00m\u001b[38;5;21;01mpyplot\u001b[39;00m \u001b[38;5;28;01mas\u001b[39;00m \u001b[38;5;21;01mplt\u001b[39;00m\n\u001b[1;32m----> 9\u001b[0m \u001b[38;5;28;01mimport\u001b[39;00m \u001b[38;5;21;01mpaddle\u001b[39;00m\n\u001b[0;32m     10\u001b[0m \u001b[38;5;28mprint\u001b[39m(paddle\u001b[38;5;241m.\u001b[39m__version__)\n\u001b[0;32m     11\u001b[0m \u001b[38;5;28mprint\u001b[39m(\u001b[38;5;124m\"\u001b[39m\u001b[38;5;124mCUDA Available:\u001b[39m\u001b[38;5;124m\"\u001b[39m, paddle\u001b[38;5;241m.\u001b[39mis_compiled_with_cuda())\n",
      "\u001b[1;31mModuleNotFoundError\u001b[0m: No module named 'paddle'"
     ]
    }
   ],
   "source": [
    "import os\n",
    "from pdf2image import convert_from_path\n",
    "from paddleocr import PaddleOCR\n",
    "import torch\n",
    "from PIL import Image\n",
    "from transformers import LayoutLMv3Processor, LayoutLMv3ForTokenClassification\n",
    "import matplotlib.pyplot as plt\n",
    "\n",
    "\n",
    "# --- Load Models ---\n",
    "ocr = PaddleOCR(use_angle_cls=True, lang='en')\n",
    "processor = LayoutLMv3Processor.from_pretrained(\"microsoft/layoutlmv3-base\")\n",
    "model = LayoutLMv3ForTokenClassification.from_pretrained(\"microsoft/layoutlmv3-base\")\n",
    "model.eval()\n",
    "\n",
    "# --- Convert PDF to Images ---\n",
    "def pdf_to_images(pdf_path, dpi=300):\n",
    "    return convert_from_path(pdf_path, dpi=dpi)\n",
    "\n",
    "# --- Run PaddleOCR ---\n",
    "def extract_ocr_data(image):\n",
    "    result = ocr.ocr(image, cls=True)\n",
    "    words, boxes = [], []\n",
    "    for line in result[0]:\n",
    "        txt = line[1][0]\n",
    "        box = line[0]\n",
    "        x_min = min([pt[0] for pt in box])\n",
    "        y_min = min([pt[1] for pt in box])\n",
    "        x_max = max([pt[0] for pt in box])\n",
    "        y_max = max([pt[1] for pt in box])\n",
    "        words.append(txt)\n",
    "        boxes.append([x_min, y_min, x_max, y_max])\n",
    "    return words, boxes\n",
    "\n",
    "# --- Normalize boxes to 0-1000 range ---\n",
    "def normalize_box(box, width, height):\n",
    "    return [\n",
    "        int(1000 * box[0] / width),\n",
    "        int(1000 * box[1] / height),\n",
    "        int(1000 * box[2] / width),\n",
    "        int(1000 * box[3] / height),\n",
    "    ]\n",
    "\n",
    "# --- Process with LayoutLMv3 ---\n",
    "def run_layoutlmv3(image_path):\n",
    "    image = Image.open(image_path).convert(\"RGB\")\n",
    "    words, boxes = extract_ocr_data(image)\n",
    "\n",
    "    width, height = image.size\n",
    "    norm_boxes = [normalize_box(b, width, height) for b in boxes]\n",
    "\n",
    "    encodings = processor(image, words, boxes=norm_boxes, return_tensors=\"pt\", truncation=True, padding=\"max_length\")\n",
    "    with torch.no_grad():\n",
    "        outputs = model(**encodings)\n",
    "        predictions = outputs.logits.argmax(-1).squeeze().tolist()\n",
    "        tokens = processor.tokenizer.convert_ids_to_tokens(encodings.input_ids.squeeze().tolist())\n",
    "\n",
    "    print(\"\\n📄 Structured Output:\")\n",
    "    for word, label_id in zip(words, predictions):\n",
    "        label = model.config.id2label[label_id]\n",
    "        if label != \"O\":  # Skip 'Other'\n",
    "            print(f\"{label}: {word}\")\n",
    "\n",
    "# --- MAIN ---\n",
    "if __name__ == \"__main__\":\n",
    "    pdf_path = r\"C:\\Users\\HP\\Desktop\\Bank Project\\Balraj\\Bank Statement Nov-Jan 2019.pdf\"\n",
    "    images = pdf_to_images(pdf_path)\n",
    "\n",
    "    for i, img in enumerate(images):\n",
    "        img_path = f\"page_{i}.png\"\n",
    "        img.save(img_path)\n",
    "        print(f\"\\n🔍 Processing Page {i+1}\")\n",
    "        run_layoutlmv3(img_path)\n"
   ]
  }
 ],
 "metadata": {
  "kernelspec": {
   "display_name": "base",
   "language": "python",
   "name": "python3"
  },
  "language_info": {
   "codemirror_mode": {
    "name": "ipython",
    "version": 3
   },
   "file_extension": ".py",
   "mimetype": "text/x-python",
   "name": "python",
   "nbconvert_exporter": "python",
   "pygments_lexer": "ipython3",
   "version": "3.12.7"
  }
 },
 "nbformat": 4,
 "nbformat_minor": 5
}
