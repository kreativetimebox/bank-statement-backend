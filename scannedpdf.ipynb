{
  "cells": [
    {
      "cell_type": "code",
      "source": [
        "!pip install camelot-py[cv] img2table openpyxl pandas pillow pytesseract\n"
      ],
      "metadata": {
        "colab": {
          "base_uri": "https://localhost:8080/"
        },
        "id": "5DXqSc2qacih",
        "outputId": "d782ba70-6966-4614-e63f-3127dddb2c9f"
      },
      "execution_count": 1,
      "outputs": [
        {
          "output_type": "stream",
          "name": "stdout",
          "text": [
            "\u001b[33mWARNING: Retrying (Retry(total=4, connect=None, read=None, redirect=None, status=None)) after connection broken by 'NewConnectionError('<pip._vendor.urllib3.connection.HTTPSConnection object at 0x7d17382dac90>: Failed to establish a new connection: [Errno -2] Name or service not known')': /simple/img2table/\u001b[0m\u001b[33m\n",
            "\u001b[0mCollecting img2table\n",
            "  Downloading img2table-1.4.1-py3-none-any.whl.metadata (21 kB)\n",
            "Requirement already satisfied: openpyxl in /usr/local/lib/python3.11/dist-packages (3.1.5)\n",
            "Requirement already satisfied: pandas in /usr/local/lib/python3.11/dist-packages (2.2.2)\n",
            "Requirement already satisfied: pillow in /usr/local/lib/python3.11/dist-packages (11.3.0)\n",
            "Collecting pytesseract\n",
            "  Downloading pytesseract-0.3.13-py3-none-any.whl.metadata (11 kB)\n",
            "Collecting camelot-py[cv]\n",
            "  Downloading camelot_py-1.0.0-py3-none-any.whl.metadata (9.4 kB)\n",
            "\u001b[33mWARNING: camelot-py 1.0.0 does not provide the extra 'cv'\u001b[0m\u001b[33m\n",
            "\u001b[0mRequirement already satisfied: click>=8.0.1 in /usr/local/lib/python3.11/dist-packages (from camelot-py[cv]) (8.2.1)\n",
            "Requirement already satisfied: chardet>=5.1.0 in /usr/local/lib/python3.11/dist-packages (from camelot-py[cv]) (5.2.0)\n",
            "Requirement already satisfied: numpy>=1.24.4 in /usr/local/lib/python3.11/dist-packages (from camelot-py[cv]) (2.0.2)\n",
            "Collecting pdfminer-six>=20240706 (from camelot-py[cv])\n",
            "  Downloading pdfminer_six-20250506-py3-none-any.whl.metadata (4.2 kB)\n",
            "Collecting pypdf<4.0,>=3.17 (from camelot-py[cv])\n",
            "  Downloading pypdf-3.17.4-py3-none-any.whl.metadata (7.5 kB)\n",
            "Requirement already satisfied: tabulate>=0.9.0 in /usr/local/lib/python3.11/dist-packages (from camelot-py[cv]) (0.9.0)\n",
            "Requirement already satisfied: opencv-python-headless>=4.7.0.68 in /usr/local/lib/python3.11/dist-packages (from camelot-py[cv]) (4.12.0.88)\n",
            "Collecting pypdfium2>=4 (from camelot-py[cv])\n",
            "  Downloading pypdfium2-4.30.0-py3-none-manylinux_2_17_x86_64.manylinux2014_x86_64.whl.metadata (48 kB)\n",
            "\u001b[2K     \u001b[90m━━━━━━━━━━━━━━━━━━━━━━━━━━━━━━━━━━━━━━━━\u001b[0m \u001b[32m48.5/48.5 kB\u001b[0m \u001b[31m3.0 MB/s\u001b[0m eta \u001b[36m0:00:00\u001b[0m\n",
            "\u001b[?25hRequirement already satisfied: polars>=1.2 in /usr/local/lib/python3.11/dist-packages (from polars[pandas]>=1.2->img2table) (1.25.0)\n",
            "Requirement already satisfied: pyarrow>=7 in /usr/local/lib/python3.11/dist-packages (from img2table) (18.1.0)\n",
            "Requirement already satisfied: opencv-contrib-python>=4 in /usr/local/lib/python3.11/dist-packages (from img2table) (4.12.0.88)\n",
            "Requirement already satisfied: numba in /usr/local/lib/python3.11/dist-packages (from img2table) (0.60.0)\n",
            "Requirement already satisfied: beautifulsoup4 in /usr/local/lib/python3.11/dist-packages (from img2table) (4.13.4)\n",
            "Collecting xlsxwriter>=3.0.6 (from img2table)\n",
            "  Downloading xlsxwriter-3.2.5-py3-none-any.whl.metadata (2.7 kB)\n",
            "Requirement already satisfied: et-xmlfile in /usr/local/lib/python3.11/dist-packages (from openpyxl) (2.0.0)\n",
            "Requirement already satisfied: python-dateutil>=2.8.2 in /usr/local/lib/python3.11/dist-packages (from pandas) (2.9.0.post0)\n",
            "Requirement already satisfied: pytz>=2020.1 in /usr/local/lib/python3.11/dist-packages (from pandas) (2025.2)\n",
            "Requirement already satisfied: tzdata>=2022.7 in /usr/local/lib/python3.11/dist-packages (from pandas) (2025.2)\n",
            "Requirement already satisfied: packaging>=21.3 in /usr/local/lib/python3.11/dist-packages (from pytesseract) (25.0)\n",
            "Requirement already satisfied: charset-normalizer>=2.0.0 in /usr/local/lib/python3.11/dist-packages (from pdfminer-six>=20240706->camelot-py[cv]) (3.4.2)\n",
            "Requirement already satisfied: cryptography>=36.0.0 in /usr/local/lib/python3.11/dist-packages (from pdfminer-six>=20240706->camelot-py[cv]) (43.0.3)\n",
            "Requirement already satisfied: six>=1.5 in /usr/local/lib/python3.11/dist-packages (from python-dateutil>=2.8.2->pandas) (1.17.0)\n",
            "Requirement already satisfied: soupsieve>1.2 in /usr/local/lib/python3.11/dist-packages (from beautifulsoup4->img2table) (2.7)\n",
            "Requirement already satisfied: typing-extensions>=4.0.0 in /usr/local/lib/python3.11/dist-packages (from beautifulsoup4->img2table) (4.14.1)\n",
            "Requirement already satisfied: llvmlite<0.44,>=0.43.0dev0 in /usr/local/lib/python3.11/dist-packages (from numba->img2table) (0.43.0)\n",
            "Requirement already satisfied: cffi>=1.12 in /usr/local/lib/python3.11/dist-packages (from cryptography>=36.0.0->pdfminer-six>=20240706->camelot-py[cv]) (1.17.1)\n",
            "Requirement already satisfied: pycparser in /usr/local/lib/python3.11/dist-packages (from cffi>=1.12->cryptography>=36.0.0->pdfminer-six>=20240706->camelot-py[cv]) (2.22)\n",
            "Downloading img2table-1.4.1-py3-none-any.whl (91 kB)\n",
            "\u001b[2K   \u001b[90m━━━━━━━━━━━━━━━━━━━━━━━━━━━━━━━━━━━━━━━━\u001b[0m \u001b[32m92.0/92.0 kB\u001b[0m \u001b[31m6.0 MB/s\u001b[0m eta \u001b[36m0:00:00\u001b[0m\n",
            "\u001b[?25hDownloading pypdfium2-4.30.0-py3-none-manylinux_2_17_x86_64.manylinux2014_x86_64.whl (2.8 MB)\n",
            "\u001b[2K   \u001b[90m━━━━━━━━━━━━━━━━━━━━━━━━━━━━━━━━━━━━━━━━\u001b[0m \u001b[32m2.8/2.8 MB\u001b[0m \u001b[31m95.9 MB/s\u001b[0m eta \u001b[36m0:00:00\u001b[0m\n",
            "\u001b[?25hDownloading pytesseract-0.3.13-py3-none-any.whl (14 kB)\n",
            "Downloading pdfminer_six-20250506-py3-none-any.whl (5.6 MB)\n",
            "\u001b[2K   \u001b[90m━━━━━━━━━━━━━━━━━━━━━━━━━━━━━━━━━━━━━━━━\u001b[0m \u001b[32m5.6/5.6 MB\u001b[0m \u001b[31m115.3 MB/s\u001b[0m eta \u001b[36m0:00:00\u001b[0m\n",
            "\u001b[?25hDownloading pypdf-3.17.4-py3-none-any.whl (278 kB)\n",
            "\u001b[2K   \u001b[90m━━━━━━━━━━━━━━━━━━━━━━━━━━━━━━━━━━━━━━━━\u001b[0m \u001b[32m278.2/278.2 kB\u001b[0m \u001b[31m27.2 MB/s\u001b[0m eta \u001b[36m0:00:00\u001b[0m\n",
            "\u001b[?25hDownloading xlsxwriter-3.2.5-py3-none-any.whl (172 kB)\n",
            "\u001b[2K   \u001b[90m━━━━━━━━━━━━━━━━━━━━━━━━━━━━━━━━━━━━━━━━\u001b[0m \u001b[32m172.3/172.3 kB\u001b[0m \u001b[31m19.7 MB/s\u001b[0m eta \u001b[36m0:00:00\u001b[0m\n",
            "\u001b[?25hDownloading camelot_py-1.0.0-py3-none-any.whl (66 kB)\n",
            "\u001b[2K   \u001b[90m━━━━━━━━━━━━━━━━━━━━━━━━━━━━━━━━━━━━━━━━\u001b[0m \u001b[32m66.6/66.6 kB\u001b[0m \u001b[31m7.1 MB/s\u001b[0m eta \u001b[36m0:00:00\u001b[0m\n",
            "\u001b[?25hInstalling collected packages: xlsxwriter, pytesseract, pypdfium2, pypdf, pdfminer-six, img2table, camelot-py\n",
            "Successfully installed camelot-py-1.0.0 img2table-1.4.1 pdfminer-six-20250506 pypdf-3.17.4 pypdfium2-4.30.0 pytesseract-0.3.13 xlsxwriter-3.2.5\n"
          ]
        }
      ]
    },
    {
      "cell_type": "code",
      "source": [
        "%pip install img2table\n",
        "\n",
        "import camelot\n",
        "import os\n",
        "from img2table.document import Image as Img2TableImage\n",
        "from img2table.ocr import TesseractOCR\n",
        "from PIL import Image\n",
        "import pandas as pd\n",
        "from openpyxl import Workbook\n",
        "\n",
        "def extract_tables_from_pdf(pdf_path):\n",
        "    # Extract tables from PDF using Camelot\n",
        "    tables = camelot.read_pdf(pdf_path, pages='all')\n",
        "    dfs = [table.df for table in tables]\n",
        "    return dfs\n",
        "\n",
        "def extract_tables_from_image(image_path):\n",
        "    # Extract tables from an image using img2table and Tesseract\n",
        "    img = Img2TableImage(src=image_path)\n",
        "    ocr = TesseractOCR(lang=\"eng\")\n",
        "    tables = img.extract_tables(ocr=ocr)\n",
        "    dfs = []\n",
        "    for table in tables:\n",
        "        # Each table is a Table object with the \"df\" attribute as DataFrame\n",
        "        dfs.append(table.df)\n",
        "    return dfs\n",
        "\n",
        "def save_dfs_to_excel(dfs, output_excel, sheet_base_name=\"Table\"):\n",
        "    # Save multiple DataFrames to Excel, each to a separate sheet\n",
        "    with pd.ExcelWriter(output_excel, engine='openpyxl') as writer:\n",
        "        for i, df in enumerate(dfs):\n",
        "            df.to_excel(writer, sheet_name=f\"{sheet_base_name}_{i+1}\", index=False)\n",
        "\n",
        "def main(pdf_files, image_files, output_excel=\"all_tables_combined.xlsx\"):\n",
        "    all_tables = []\n",
        "    # Extract from PDFs\n",
        "    for pdf_file in pdf_files:\n",
        "        print(f\"Extracting tables from PDF: {pdf_file}\")\n",
        "        pdf_tables = extract_tables_from_pdf(pdf_file)\n",
        "        all_tables.extend(pdf_tables)\n",
        "    # Extract from images\n",
        "    for img_file in image_files:\n",
        "        print(f\"Extracting tables from image: {img_file}\")\n",
        "        img_tables = extract_tables_from_image(img_file)\n",
        "        all_tables.extend(img_tables)\n",
        "    # Save all tables to a single Excel\n",
        "    if all_tables:\n",
        "        save_dfs_to_excel(all_tables, output_excel)\n",
        "        print(f\"All tables saved into {output_excel}\")\n",
        "    else:\n",
        "        print(\"No tables found in provided files.\")\n",
        "\n",
        "if __name__ == \"__main__\":\n",
        "    # Example file lists\n",
        "    pdf_files = []   # Your PDF files here\n",
        "    image_files = [\"/content/Revoult Bank statement_page-0001.jpg\"]   # Your image files here - Added empty list\n",
        "    main(pdf_files, image_files, output_excel=\"tables_from_pdf_and_images.xlsx\")"
      ],
      "metadata": {
        "colab": {
          "base_uri": "https://localhost:8080/"
        },
        "id": "RFK6qCRmaiWe",
        "outputId": "e8f24d19-4cb0-4f7b-edb9-c73b90c95232"
      },
      "execution_count": 8,
      "outputs": [
        {
          "output_type": "stream",
          "name": "stdout",
          "text": [
            "Requirement already satisfied: img2table in /usr/local/lib/python3.11/dist-packages (1.4.1)\n",
            "Requirement already satisfied: polars>=1.2 in /usr/local/lib/python3.11/dist-packages (from polars[pandas]>=1.2->img2table) (1.25.0)\n",
            "Requirement already satisfied: pyarrow>=7 in /usr/local/lib/python3.11/dist-packages (from img2table) (18.1.0)\n",
            "Requirement already satisfied: numpy in /usr/local/lib/python3.11/dist-packages (from img2table) (2.0.2)\n",
            "Requirement already satisfied: pypdfium2==4.30.0 in /usr/local/lib/python3.11/dist-packages (from img2table) (4.30.0)\n",
            "Requirement already satisfied: opencv-contrib-python>=4 in /usr/local/lib/python3.11/dist-packages (from img2table) (4.12.0.88)\n",
            "Requirement already satisfied: numba in /usr/local/lib/python3.11/dist-packages (from img2table) (0.60.0)\n",
            "Requirement already satisfied: beautifulsoup4 in /usr/local/lib/python3.11/dist-packages (from img2table) (4.13.4)\n",
            "Requirement already satisfied: xlsxwriter>=3.0.6 in /usr/local/lib/python3.11/dist-packages (from img2table) (3.2.5)\n",
            "Requirement already satisfied: pandas in /usr/local/lib/python3.11/dist-packages (from polars[pandas]>=1.2->img2table) (2.2.2)\n",
            "Requirement already satisfied: soupsieve>1.2 in /usr/local/lib/python3.11/dist-packages (from beautifulsoup4->img2table) (2.7)\n",
            "Requirement already satisfied: typing-extensions>=4.0.0 in /usr/local/lib/python3.11/dist-packages (from beautifulsoup4->img2table) (4.14.1)\n",
            "Requirement already satisfied: llvmlite<0.44,>=0.43.0dev0 in /usr/local/lib/python3.11/dist-packages (from numba->img2table) (0.43.0)\n",
            "Requirement already satisfied: python-dateutil>=2.8.2 in /usr/local/lib/python3.11/dist-packages (from pandas->polars[pandas]>=1.2->img2table) (2.9.0.post0)\n",
            "Requirement already satisfied: pytz>=2020.1 in /usr/local/lib/python3.11/dist-packages (from pandas->polars[pandas]>=1.2->img2table) (2025.2)\n",
            "Requirement already satisfied: tzdata>=2022.7 in /usr/local/lib/python3.11/dist-packages (from pandas->polars[pandas]>=1.2->img2table) (2025.2)\n",
            "Requirement already satisfied: six>=1.5 in /usr/local/lib/python3.11/dist-packages (from python-dateutil>=2.8.2->pandas->polars[pandas]>=1.2->img2table) (1.17.0)\n",
            "Extracting tables from image: /content/Revoult Bank statement_page-0001.jpg\n",
            "No tables found in provided files.\n"
          ]
        }
      ]
    }
  ],
  "metadata": {
    "accelerator": "GPU",
    "colab": {
      "gpuType": "T4",
      "provenance": []
    },
    "kernelspec": {
      "display_name": "Python 3",
      "name": "python3"
    },
    "language_info": {
      "name": "python"
    }
  },
  "nbformat": 4,
  "nbformat_minor": 0
}